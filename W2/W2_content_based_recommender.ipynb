{
  "cells": [
    {
      "cell_type": "markdown",
      "metadata": {
        "id": "view-in-github",
        "colab_type": "text"
      },
      "source": [
        "<a href=\"https://colab.research.google.com/github/AmoreHH/data-course-sample/blob/main/W2/W2_content_based_recommender.ipynb\" target=\"_parent\"><img src=\"https://colab.research.google.com/assets/colab-badge.svg\" alt=\"Open In Colab\"/></a>"
      ]
    },
    {
      "cell_type": "code",
      "execution_count": null,
      "id": "1aafbea8",
      "metadata": {
        "id": "1aafbea8"
      },
      "outputs": [],
      "source": [
        "import pandas as pd\n",
        "import numpy as np\n",
        "import gzip, json\n",
        "import warnings\n",
        "warnings.filterwarnings('ignore')\n",
        "\n",
        "def parse(path):\n",
        "    g = gzip.open(path, 'rb')\n",
        "    for l in g:\n",
        "        yield json.loads(l)\n",
        "\n",
        "def getDF(path):\n",
        "    i = 0\n",
        "    df = {}\n",
        "    for d in parse(path):\n",
        "        df[i] = d\n",
        "        i += 1\n",
        "    return pd.DataFrame.from_dict(df, orient='index')"
      ]
    },
    {
      "cell_type": "code",
      "execution_count": null,
      "id": "ff54dfbc",
      "metadata": {
        "id": "ff54dfbc"
      },
      "outputs": [],
      "source": [
        "# !wget http://deepyeti.ucsd.edu/jianmo/amazon/categoryFilesSmall/All_Beauty.csv\n",
        "# !wget http://deepyeti.ucsd.edu/jianmo/amazon/metaFiles2/meta_All_Beauty.json.gz"
      ]
    },
    {
      "cell_type": "code",
      "execution_count": null,
      "id": "d5069000",
      "metadata": {
        "id": "d5069000"
      },
      "outputs": [],
      "source": [
        "metadata = getDF('meta_All_Beauty.json.gz')\n",
        "ratings = pd.read_csv('All_Beauty.csv', names=['asin', 'reviewerID', 'overall', 'unixReviewTime'], header=None)"
      ]
    },
    {
      "cell_type": "code",
      "execution_count": null,
      "id": "63b313ad",
      "metadata": {
        "id": "63b313ad",
        "outputId": "f84b7559-18f3-4184-d427-3de354816b40"
      },
      "outputs": [
        {
          "data": {
            "text/html": [
              "<div>\n",
              "<style scoped>\n",
              "    .dataframe tbody tr th:only-of-type {\n",
              "        vertical-align: middle;\n",
              "    }\n",
              "\n",
              "    .dataframe tbody tr th {\n",
              "        vertical-align: top;\n",
              "    }\n",
              "\n",
              "    .dataframe thead th {\n",
              "        text-align: right;\n",
              "    }\n",
              "</style>\n",
              "<table border=\"1\" class=\"dataframe\">\n",
              "  <thead>\n",
              "    <tr style=\"text-align: right;\">\n",
              "      <th></th>\n",
              "      <th>category</th>\n",
              "      <th>tech1</th>\n",
              "      <th>description</th>\n",
              "      <th>fit</th>\n",
              "      <th>title</th>\n",
              "      <th>also_buy</th>\n",
              "      <th>tech2</th>\n",
              "      <th>brand</th>\n",
              "      <th>feature</th>\n",
              "      <th>rank</th>\n",
              "      <th>also_view</th>\n",
              "      <th>details</th>\n",
              "      <th>main_cat</th>\n",
              "      <th>similar_item</th>\n",
              "      <th>date</th>\n",
              "      <th>price</th>\n",
              "      <th>asin</th>\n",
              "      <th>imageURL</th>\n",
              "      <th>imageURLHighRes</th>\n",
              "    </tr>\n",
              "  </thead>\n",
              "  <tbody>\n",
              "    <tr>\n",
              "      <th>0</th>\n",
              "      <td>[]</td>\n",
              "      <td></td>\n",
              "      <td>[Loud 'N Clear Personal Sound Amplifier allows...</td>\n",
              "      <td></td>\n",
              "      <td>Loud 'N Clear&amp;trade; Personal Sound Amplifier</td>\n",
              "      <td>[]</td>\n",
              "      <td></td>\n",
              "      <td>idea village</td>\n",
              "      <td>[]</td>\n",
              "      <td>2,938,573 in Beauty &amp; Personal Care (</td>\n",
              "      <td>[]</td>\n",
              "      <td>{'ASIN: ': '6546546450'}</td>\n",
              "      <td>All Beauty</td>\n",
              "      <td></td>\n",
              "      <td></td>\n",
              "      <td></td>\n",
              "      <td>6546546450</td>\n",
              "      <td>[]</td>\n",
              "      <td>[]</td>\n",
              "    </tr>\n",
              "    <tr>\n",
              "      <th>1</th>\n",
              "      <td>[]</td>\n",
              "      <td></td>\n",
              "      <td>[No7 Lift &amp; Luminate Triple Action Serum 50ml ...</td>\n",
              "      <td></td>\n",
              "      <td>No7 Lift &amp;amp; Luminate Triple Action Serum 50...</td>\n",
              "      <td>[B01E7LCSL6, B008X5RVME]</td>\n",
              "      <td></td>\n",
              "      <td></td>\n",
              "      <td>[]</td>\n",
              "      <td>872,854 in Beauty &amp; Personal Care (</td>\n",
              "      <td>[]</td>\n",
              "      <td>{'Shipping Weight:': '0.3 ounces (', 'ASIN: ':...</td>\n",
              "      <td>All Beauty</td>\n",
              "      <td>class=\"a-bordered a-horizontal-stripes  a-spa...</td>\n",
              "      <td></td>\n",
              "      <td>$44.99</td>\n",
              "      <td>7178680776</td>\n",
              "      <td>[]</td>\n",
              "      <td>[]</td>\n",
              "    </tr>\n",
              "    <tr>\n",
              "      <th>2</th>\n",
              "      <td>[]</td>\n",
              "      <td></td>\n",
              "      <td>[No7 Stay Perfect Foundation now stays perfect...</td>\n",
              "      <td></td>\n",
              "      <td>No7 Stay Perfect Foundation Cool Vanilla by No7</td>\n",
              "      <td>[]</td>\n",
              "      <td></td>\n",
              "      <td>No7</td>\n",
              "      <td>[]</td>\n",
              "      <td>956,696 in Beauty &amp; Personal Care (</td>\n",
              "      <td>[B01B8BR0O8, B01B8BR0NO, B014MHXXM8]</td>\n",
              "      <td>{'Shipping Weight:': '3.5 ounces (', 'ASIN: ':...</td>\n",
              "      <td>All Beauty</td>\n",
              "      <td></td>\n",
              "      <td></td>\n",
              "      <td>$28.76</td>\n",
              "      <td>7250468162</td>\n",
              "      <td>[]</td>\n",
              "      <td>[]</td>\n",
              "    </tr>\n",
              "    <tr>\n",
              "      <th>3</th>\n",
              "      <td>[]</td>\n",
              "      <td></td>\n",
              "      <td>[]</td>\n",
              "      <td></td>\n",
              "      <td>Wella Koleston Perfect Hair Colour 44/44 Mediu...</td>\n",
              "      <td>[B0041PBXX8]</td>\n",
              "      <td></td>\n",
              "      <td></td>\n",
              "      <td>[]</td>\n",
              "      <td>1,870,258 in Beauty &amp; Personal Care (</td>\n",
              "      <td>[]</td>\n",
              "      <td>{'\n",
              "    Item Weight: \n",
              "    ': '1.76 ounces', 'Sh...</td>\n",
              "      <td>All Beauty</td>\n",
              "      <td></td>\n",
              "      <td></td>\n",
              "      <td></td>\n",
              "      <td>7367905066</td>\n",
              "      <td>[https://images-na.ssl-images-amazon.com/image...</td>\n",
              "      <td>[https://images-na.ssl-images-amazon.com/image...</td>\n",
              "    </tr>\n",
              "    <tr>\n",
              "      <th>4</th>\n",
              "      <td>[]</td>\n",
              "      <td></td>\n",
              "      <td>[Lacto Calamine Skin Balance Daily Nourishing ...</td>\n",
              "      <td></td>\n",
              "      <td>Lacto Calamine Skin Balance Oil control 120 ml...</td>\n",
              "      <td>[]</td>\n",
              "      <td></td>\n",
              "      <td>Pirmal Healthcare</td>\n",
              "      <td>[]</td>\n",
              "      <td>67,701 in Beauty &amp; Personal Care (</td>\n",
              "      <td>[3254895630, B007VL1D9S, B00EH9A0RI, B0773MBG4...</td>\n",
              "      <td>{'Shipping Weight:': '12 ounces (', 'ASIN: ': ...</td>\n",
              "      <td>All Beauty</td>\n",
              "      <td></td>\n",
              "      <td></td>\n",
              "      <td>$12.15</td>\n",
              "      <td>7414204790</td>\n",
              "      <td>[https://images-na.ssl-images-amazon.com/image...</td>\n",
              "      <td>[https://images-na.ssl-images-amazon.com/image...</td>\n",
              "    </tr>\n",
              "  </tbody>\n",
              "</table>\n",
              "</div>"
            ],
            "text/plain": [
              "  category tech1                                        description fit  \\\n",
              "0       []        [Loud 'N Clear Personal Sound Amplifier allows...       \n",
              "1       []        [No7 Lift & Luminate Triple Action Serum 50ml ...       \n",
              "2       []        [No7 Stay Perfect Foundation now stays perfect...       \n",
              "3       []                                                       []       \n",
              "4       []        [Lacto Calamine Skin Balance Daily Nourishing ...       \n",
              "\n",
              "                                               title  \\\n",
              "0      Loud 'N Clear&trade; Personal Sound Amplifier   \n",
              "1  No7 Lift &amp; Luminate Triple Action Serum 50...   \n",
              "2    No7 Stay Perfect Foundation Cool Vanilla by No7   \n",
              "3  Wella Koleston Perfect Hair Colour 44/44 Mediu...   \n",
              "4  Lacto Calamine Skin Balance Oil control 120 ml...   \n",
              "\n",
              "                   also_buy tech2              brand feature  \\\n",
              "0                        []             idea village      []   \n",
              "1  [B01E7LCSL6, B008X5RVME]                               []   \n",
              "2                        []                      No7      []   \n",
              "3              [B0041PBXX8]                               []   \n",
              "4                        []        Pirmal Healthcare      []   \n",
              "\n",
              "                                    rank  \\\n",
              "0  2,938,573 in Beauty & Personal Care (   \n",
              "1    872,854 in Beauty & Personal Care (   \n",
              "2    956,696 in Beauty & Personal Care (   \n",
              "3  1,870,258 in Beauty & Personal Care (   \n",
              "4     67,701 in Beauty & Personal Care (   \n",
              "\n",
              "                                           also_view  \\\n",
              "0                                                 []   \n",
              "1                                                 []   \n",
              "2               [B01B8BR0O8, B01B8BR0NO, B014MHXXM8]   \n",
              "3                                                 []   \n",
              "4  [3254895630, B007VL1D9S, B00EH9A0RI, B0773MBG4...   \n",
              "\n",
              "                                             details    main_cat  \\\n",
              "0                           {'ASIN: ': '6546546450'}  All Beauty   \n",
              "1  {'Shipping Weight:': '0.3 ounces (', 'ASIN: ':...  All Beauty   \n",
              "2  {'Shipping Weight:': '3.5 ounces (', 'ASIN: ':...  All Beauty   \n",
              "3  {'\n",
              "    Item Weight: \n",
              "    ': '1.76 ounces', 'Sh...  All Beauty   \n",
              "4  {'Shipping Weight:': '12 ounces (', 'ASIN: ': ...  All Beauty   \n",
              "\n",
              "                                        similar_item date   price        asin  \\\n",
              "0                                                                  6546546450   \n",
              "1   class=\"a-bordered a-horizontal-stripes  a-spa...       $44.99  7178680776   \n",
              "2                                                          $28.76  7250468162   \n",
              "3                                                                  7367905066   \n",
              "4                                                          $12.15  7414204790   \n",
              "\n",
              "                                            imageURL  \\\n",
              "0                                                 []   \n",
              "1                                                 []   \n",
              "2                                                 []   \n",
              "3  [https://images-na.ssl-images-amazon.com/image...   \n",
              "4  [https://images-na.ssl-images-amazon.com/image...   \n",
              "\n",
              "                                     imageURLHighRes  \n",
              "0                                                 []  \n",
              "1                                                 []  \n",
              "2                                                 []  \n",
              "3  [https://images-na.ssl-images-amazon.com/image...  \n",
              "4  [https://images-na.ssl-images-amazon.com/image...  "
            ]
          },
          "execution_count": 83,
          "metadata": {},
          "output_type": "execute_result"
        }
      ],
      "source": [
        "metadata.head()"
      ]
    },
    {
      "cell_type": "code",
      "execution_count": null,
      "id": "e258e1c3",
      "metadata": {
        "id": "e258e1c3",
        "outputId": "c8f6394d-4217-4e6d-a63e-0e079ca1c0a2"
      },
      "outputs": [
        {
          "data": {
            "text/html": [
              "<div>\n",
              "<style scoped>\n",
              "    .dataframe tbody tr th:only-of-type {\n",
              "        vertical-align: middle;\n",
              "    }\n",
              "\n",
              "    .dataframe tbody tr th {\n",
              "        vertical-align: top;\n",
              "    }\n",
              "\n",
              "    .dataframe thead th {\n",
              "        text-align: right;\n",
              "    }\n",
              "</style>\n",
              "<table border=\"1\" class=\"dataframe\">\n",
              "  <thead>\n",
              "    <tr style=\"text-align: right;\">\n",
              "      <th></th>\n",
              "      <th>asin</th>\n",
              "      <th>reviewerID</th>\n",
              "      <th>overall</th>\n",
              "      <th>unixReviewTime</th>\n",
              "    </tr>\n",
              "  </thead>\n",
              "  <tbody>\n",
              "    <tr>\n",
              "      <th>0</th>\n",
              "      <td>0143026860</td>\n",
              "      <td>A1V6B6TNIC10QE</td>\n",
              "      <td>1.0</td>\n",
              "      <td>1424304000</td>\n",
              "    </tr>\n",
              "    <tr>\n",
              "      <th>1</th>\n",
              "      <td>0143026860</td>\n",
              "      <td>A2F5GHSXFQ0W6J</td>\n",
              "      <td>4.0</td>\n",
              "      <td>1418860800</td>\n",
              "    </tr>\n",
              "    <tr>\n",
              "      <th>2</th>\n",
              "      <td>0143026860</td>\n",
              "      <td>A1572GUYS7DGSR</td>\n",
              "      <td>4.0</td>\n",
              "      <td>1407628800</td>\n",
              "    </tr>\n",
              "    <tr>\n",
              "      <th>3</th>\n",
              "      <td>0143026860</td>\n",
              "      <td>A1PSGLFK1NSVO</td>\n",
              "      <td>5.0</td>\n",
              "      <td>1362960000</td>\n",
              "    </tr>\n",
              "    <tr>\n",
              "      <th>4</th>\n",
              "      <td>0143026860</td>\n",
              "      <td>A6IKXKZMTKGSC</td>\n",
              "      <td>5.0</td>\n",
              "      <td>1324771200</td>\n",
              "    </tr>\n",
              "  </tbody>\n",
              "</table>\n",
              "</div>"
            ],
            "text/plain": [
              "         asin      reviewerID  overall  unixReviewTime\n",
              "0  0143026860  A1V6B6TNIC10QE      1.0      1424304000\n",
              "1  0143026860  A2F5GHSXFQ0W6J      4.0      1418860800\n",
              "2  0143026860  A1572GUYS7DGSR      4.0      1407628800\n",
              "3  0143026860   A1PSGLFK1NSVO      5.0      1362960000\n",
              "4  0143026860   A6IKXKZMTKGSC      5.0      1324771200"
            ]
          },
          "execution_count": 84,
          "metadata": {},
          "output_type": "execute_result"
        }
      ],
      "source": [
        "ratings.head()"
      ]
    },
    {
      "cell_type": "markdown",
      "id": "6e78c349",
      "metadata": {
        "id": "6e78c349"
      },
      "source": [
        "## 資料整理"
      ]
    },
    {
      "cell_type": "code",
      "execution_count": null,
      "id": "1dcd5928",
      "metadata": {
        "id": "1dcd5928",
        "outputId": "191b646b-b819-4518-dcc5-d80dbf5ebe6e"
      },
      "outputs": [
        {
          "name": "stdout",
          "output_type": "stream",
          "text": [
            "(32892, 19)\n",
            "(32084, 19)\n"
          ]
        }
      ],
      "source": [
        "# 刪除重複欄位 \n",
        "a = metadata.astype(str).drop_duplicates(keep=False)\n",
        "print(metadata.shape)\n",
        "print(a.shape)"
      ]
    },
    {
      "cell_type": "code",
      "execution_count": null,
      "id": "833ef18f",
      "metadata": {
        "id": "833ef18f",
        "outputId": "a63126a2-1c1b-4911-c5e3-43757ba3e31b"
      },
      "outputs": [
        {
          "name": "stdout",
          "output_type": "stream",
          "text": [
            "        column_name  percentage\n",
            "0          category  100.000000\n",
            "3               fit  100.000000\n",
            "6             tech2  100.000000\n",
            "1             tech1   99.968832\n",
            "14             date   99.940780\n",
            "8           feature   99.198978\n",
            "13     similar_item   95.960603\n",
            "5          also_buy   79.687695\n",
            "10        also_view   75.464406\n",
            "15            price   64.976312\n",
            "2       description   54.665877\n",
            "17         imageURL   49.691435\n",
            "18  imageURLHighRes   49.691435\n",
            "7             brand   48.207829\n",
            "9              rank    0.938162\n",
            "4             title    0.003117\n",
            "12         main_cat    0.000000\n",
            "11          details    0.000000\n",
            "16             asin    0.000000\n"
          ]
        }
      ],
      "source": [
        "# 將空白 或 空集合[] 轉為 NaN，計算na有多少\n",
        "b =a.replace(to_replace='', value=np.nan)\n",
        "d = b.mask(b.applymap(str).eq('[]'))\n",
        "NAN = [(c, d[c].isna().mean()*100) for c in d]\n",
        "NAN = pd.DataFrame(NAN, columns=[\"column_name\", \"percentage\"])\n",
        "print(NAN.sort_values(by='percentage', ascending=False))"
      ]
    },
    {
      "cell_type": "code",
      "execution_count": null,
      "id": "063d1850",
      "metadata": {
        "id": "063d1850",
        "outputId": "cf22d1ef-29ab-4a34-8aa5-7164ef144db4"
      },
      "outputs": [
        {
          "data": {
            "text/plain": [
              "['category', 'tech1', 'fit', 'tech2', 'feature', 'similar_item', 'date']"
            ]
          },
          "execution_count": 87,
          "metadata": {},
          "output_type": "execute_result"
        }
      ],
      "source": [
        "too_much_empty = NAN[NAN['percentage']>90]\n",
        "too_much_empty=too_much_empty['column_name'].tolist()\n",
        "too_much_empty"
      ]
    },
    {
      "cell_type": "code",
      "execution_count": null,
      "id": "63d1b2f3",
      "metadata": {
        "id": "63d1b2f3",
        "outputId": "8e3a1731-48c3-4e2e-c2b7-b46420c21d94"
      },
      "outputs": [
        {
          "data": {
            "text/plain": [
              "(32084, 12)"
            ]
          },
          "execution_count": 88,
          "metadata": {},
          "output_type": "execute_result"
        }
      ],
      "source": [
        "df = d.drop(too_much_empty, axis=1)\n",
        "df.shape"
      ]
    },
    {
      "cell_type": "code",
      "execution_count": null,
      "id": "eb9354a0",
      "metadata": {
        "scrolled": true,
        "id": "eb9354a0"
      },
      "outputs": [],
      "source": [
        "# 參考這篇把price 轉成數值 https://www.kaggle.com/rastoginisha97/assignment-05\n",
        "df.price=df.price.str.replace(\"$\",\"\")\n",
        "#One of the price cells, also included text, so that needs to be modified too\n",
        "def priceonly(x):\n",
        "    try:\n",
        "        x=float(x)\n",
        "        return x\n",
        "    except ValueError:\n",
        "        return None\n",
        "\n",
        "df.price=df.price.apply(lambda x: priceonly(x))\n"
      ]
    },
    {
      "cell_type": "code",
      "execution_count": null,
      "id": "e800f6ca",
      "metadata": {
        "id": "e800f6ca"
      },
      "outputs": [],
      "source": [
        "# 接下來是處理 期初測試時也有做的  rank，分成排名(數值)跟所屬類別\n",
        "df['rank_n'] = df['rank'].str.split(expand = True)[0]\n",
        "df['rank_n'] = df['rank_n'].str.replace(',','')\n",
        "df['rank_n'] = pd.to_numeric(df['rank_n'], errors='coerce')"
      ]
    },
    {
      "cell_type": "code",
      "execution_count": null,
      "id": "58295c42",
      "metadata": {
        "id": "58295c42",
        "outputId": "b56609a4-cf3d-4204-bbf3-5b73e6ddafa5"
      },
      "outputs": [
        {
          "name": "stdout",
          "output_type": "stream",
          "text": [
            " Beauty & Personal Care       31712\n",
            " Grocery & Gourmet Food          37\n",
            " Health & Household              21\n",
            " Sports & Outdoors                3\n",
            " Toys & Games                     3\n",
            " Baby                             2\n",
            " Cloth                            2\n",
            " Home & Kitchen                   1\n",
            " Automotive                       1\n",
            " Tools & Home Improvement         1\n",
            "Name: rank_c, dtype: int64\n"
          ]
        }
      ],
      "source": [
        "df['rank_c'] = df['rank'].str.split('in', expand = True, n=2) [1]\n",
        "df['rank_c']=df['rank_c'].str.replace('&amp;', '&') \n",
        "df['rank_c'] = df['rank_c'].str.split('(', expand = True) [0]\n",
        "print(df['rank_c'].value_counts())"
      ]
    },
    {
      "cell_type": "code",
      "execution_count": null,
      "id": "9cc0e320",
      "metadata": {
        "id": "9cc0e320",
        "outputId": "d19ba32d-2a52-4dca-f5b5-fa5ca20e0900"
      },
      "outputs": [
        {
          "data": {
            "text/plain": [
              "(31712, 14)"
            ]
          },
          "execution_count": 92,
          "metadata": {},
          "output_type": "execute_result"
        }
      ],
      "source": [
        "df = df[df.rank_c == \" Beauty & Personal Care \"]\n",
        "df.shape"
      ]
    },
    {
      "cell_type": "code",
      "execution_count": null,
      "id": "e38a3fdd",
      "metadata": {
        "id": "e38a3fdd"
      },
      "outputs": [],
      "source": [
        "metadata = df.copy()"
      ]
    },
    {
      "cell_type": "markdown",
      "id": "21b86561",
      "metadata": {
        "id": "21b86561"
      },
      "source": [
        "## 整理 description的資料內容"
      ]
    },
    {
      "cell_type": "code",
      "execution_count": null,
      "id": "251bdadb",
      "metadata": {
        "id": "251bdadb",
        "outputId": "ebcf82b6-442d-4017-82bd-a3320a4215e9"
      },
      "outputs": [
        {
          "name": "stdout",
          "output_type": "stream",
          "text": [
            "0    [\"Loud 'N Clear Personal Sound Amplifier allow...\n",
            "1    ['No7 Lift & Luminate Triple Action Serum 50ml...\n",
            "2    [\"No7 Stay Perfect Foundation now stays perfec...\n",
            "4    ['Lacto Calamine Skin Balance Daily Nourishing...\n",
            "5    ['Mary Kay Satin Hands Peach Hand Cream Travel...\n",
            "Name: description, dtype: object\n",
            "\n",
            "\n",
            "[\"No7 Stay Perfect Foundation now stays perfect for longer! Up to 24 hours wear for non-stop complexion perfection. Life-proof foundation for a naturally flawless complexion with super-staying power, uniquely matched to your skin tone using No7 Stay Perfect. This comfortable foundation feels lightweight and breathable, and gives an even-toned, beautifully smooth complexion that looks and feels fresh all day long. It can be relied upon to stay perfect; weather-proof and transfer-proof, it won't cake or flake on dry skin, nor slide or shine on oily skin. Up to 24 hours wear for non stop complexion perfection!\"]\n"
          ]
        }
      ],
      "source": [
        "a = metadata.description.dropna()\n",
        "print(a.head())\n",
        "print('\\n')\n",
        "print(a[2])"
      ]
    },
    {
      "cell_type": "code",
      "execution_count": null,
      "id": "7fda5374",
      "metadata": {
        "id": "7fda5374"
      },
      "outputs": [],
      "source": [
        "metadata[\"description_n\"] = metadata[\"description\"].dropna().apply(lambda x : eval(x))\n",
        "a = metadata[\"description_n\"].apply(pd.Series)"
      ]
    },
    {
      "cell_type": "code",
      "execution_count": null,
      "id": "1987685b",
      "metadata": {
        "id": "1987685b"
      },
      "outputs": [],
      "source": [
        "metadata['description'] = a[0]"
      ]
    },
    {
      "cell_type": "code",
      "execution_count": null,
      "id": "231c6957",
      "metadata": {
        "id": "231c6957"
      },
      "outputs": [],
      "source": [
        "#沒有 description的話，用 title補進去，就可以一起做文字項分析 \n",
        "metadata.dropna(subset=['title'], inplace=True) #dropping records where tiltle is missing. \n",
        "metadata['description'].fillna(metadata['title'], inplace=True) #imputing missing discription with titles."
      ]
    },
    {
      "cell_type": "code",
      "execution_count": null,
      "id": "3ab4eedb",
      "metadata": {
        "id": "3ab4eedb"
      },
      "outputs": [],
      "source": [
        "def clean_text(text):\n",
        "    text = text.lower()\n",
        "    text = re.sub('\\[.*?\\]', '', text)\n",
        "    text = re.sub('https?://\\S+|www\\.\\S+', '', text)\n",
        "    text = re.sub('<.*?>+', '', text)\n",
        "    text = re.sub('[%s]' % re.escape(string.punctuation), '', text)\n",
        "    text = re.sub('\\n', '', text)\n",
        "    text = re.sub('\\w*\\d\\w*', '', text)\n",
        "    text = re.sub(r'&amp;', '', text)\n",
        "    text = re.sub(r\"(@\\[A-Za-z0-9]+)|([^0-9A-Za-z \\t])|(\\w+:\\/\\/\\S+)|^rt|http.+?\", \"\", text)\n",
        "    return text"
      ]
    },
    {
      "cell_type": "code",
      "execution_count": null,
      "id": "953c4f2d",
      "metadata": {
        "id": "953c4f2d"
      },
      "outputs": [],
      "source": [
        "# 整理 description 的內容 把特殊符號這些去掉 \n",
        "import string\n",
        "import re\n",
        "metadata['description'] = metadata['description'].apply(clean_text)"
      ]
    },
    {
      "cell_type": "code",
      "execution_count": null,
      "id": "5847aea3",
      "metadata": {
        "id": "5847aea3",
        "outputId": "c1a3311b-5bcc-459f-e879-3433fe308977"
      },
      "outputs": [
        {
          "data": {
            "text/html": [
              "<div>\n",
              "<style scoped>\n",
              "    .dataframe tbody tr th:only-of-type {\n",
              "        vertical-align: middle;\n",
              "    }\n",
              "\n",
              "    .dataframe tbody tr th {\n",
              "        vertical-align: top;\n",
              "    }\n",
              "\n",
              "    .dataframe thead th {\n",
              "        text-align: right;\n",
              "    }\n",
              "</style>\n",
              "<table border=\"1\" class=\"dataframe\">\n",
              "  <thead>\n",
              "    <tr style=\"text-align: right;\">\n",
              "      <th></th>\n",
              "      <th>description</th>\n",
              "      <th>title</th>\n",
              "      <th>also_buy</th>\n",
              "      <th>brand</th>\n",
              "      <th>rank</th>\n",
              "      <th>also_view</th>\n",
              "      <th>details</th>\n",
              "      <th>main_cat</th>\n",
              "      <th>price</th>\n",
              "      <th>asin</th>\n",
              "      <th>imageURL</th>\n",
              "      <th>imageURLHighRes</th>\n",
              "      <th>rank_n</th>\n",
              "      <th>rank_c</th>\n",
              "      <th>description_n</th>\n",
              "    </tr>\n",
              "  </thead>\n",
              "  <tbody>\n",
              "    <tr>\n",
              "      <th>0</th>\n",
              "      <td>loud n clear personal sound amplifier allows y...</td>\n",
              "      <td>Loud 'N Clear&amp;trade; Personal Sound Amplifier</td>\n",
              "      <td>NaN</td>\n",
              "      <td>idea village</td>\n",
              "      <td>2,938,573 in Beauty &amp; Personal Care (</td>\n",
              "      <td>NaN</td>\n",
              "      <td>{'ASIN: ': '6546546450'}</td>\n",
              "      <td>All Beauty</td>\n",
              "      <td>NaN</td>\n",
              "      <td>6546546450</td>\n",
              "      <td>NaN</td>\n",
              "      <td>NaN</td>\n",
              "      <td>2938573.0</td>\n",
              "      <td>Beauty &amp; Personal Care</td>\n",
              "      <td>[Loud 'N Clear Personal Sound Amplifier allows...</td>\n",
              "    </tr>\n",
              "    <tr>\n",
              "      <th>1</th>\n",
              "      <td>lift  luminate triple action serum  by boots</td>\n",
              "      <td>No7 Lift &amp;amp; Luminate Triple Action Serum 50...</td>\n",
              "      <td>['B01E7LCSL6', 'B008X5RVME']</td>\n",
              "      <td>NaN</td>\n",
              "      <td>872,854 in Beauty &amp; Personal Care (</td>\n",
              "      <td>NaN</td>\n",
              "      <td>{'Shipping Weight:': '0.3 ounces (', 'ASIN: ':...</td>\n",
              "      <td>All Beauty</td>\n",
              "      <td>44.99</td>\n",
              "      <td>7178680776</td>\n",
              "      <td>NaN</td>\n",
              "      <td>NaN</td>\n",
              "      <td>872854.0</td>\n",
              "      <td>Beauty &amp; Personal Care</td>\n",
              "      <td>[No7 Lift &amp; Luminate Triple Action Serum 50ml ...</td>\n",
              "    </tr>\n",
              "    <tr>\n",
              "      <th>2</th>\n",
              "      <td>stay perfect foundation now stays perfect for...</td>\n",
              "      <td>No7 Stay Perfect Foundation Cool Vanilla by No7</td>\n",
              "      <td>NaN</td>\n",
              "      <td>No7</td>\n",
              "      <td>956,696 in Beauty &amp; Personal Care (</td>\n",
              "      <td>['B01B8BR0O8', 'B01B8BR0NO', 'B014MHXXM8']</td>\n",
              "      <td>{'Shipping Weight:': '3.5 ounces (', 'ASIN: ':...</td>\n",
              "      <td>All Beauty</td>\n",
              "      <td>28.76</td>\n",
              "      <td>7250468162</td>\n",
              "      <td>NaN</td>\n",
              "      <td>NaN</td>\n",
              "      <td>956696.0</td>\n",
              "      <td>Beauty &amp; Personal Care</td>\n",
              "      <td>[No7 Stay Perfect Foundation now stays perfect...</td>\n",
              "    </tr>\n",
              "    <tr>\n",
              "      <th>3</th>\n",
              "      <td>wella koleston perfect hair colour  medium int...</td>\n",
              "      <td>Wella Koleston Perfect Hair Colour 44/44 Mediu...</td>\n",
              "      <td>['B0041PBXX8']</td>\n",
              "      <td>NaN</td>\n",
              "      <td>1,870,258 in Beauty &amp; Personal Care (</td>\n",
              "      <td>NaN</td>\n",
              "      <td>{'\\n    Item Weight: \\n    ': '1.76 ounces', '...</td>\n",
              "      <td>All Beauty</td>\n",
              "      <td>NaN</td>\n",
              "      <td>7367905066</td>\n",
              "      <td>['https://images-na.ssl-images-amazon.com/imag...</td>\n",
              "      <td>['https://images-na.ssl-images-amazon.com/imag...</td>\n",
              "      <td>1870258.0</td>\n",
              "      <td>Beauty &amp; Personal Care</td>\n",
              "      <td>NaN</td>\n",
              "    </tr>\n",
              "    <tr>\n",
              "      <th>4</th>\n",
              "      <td>lacto calamine skin balance daily nourishing l...</td>\n",
              "      <td>Lacto Calamine Skin Balance Oil control 120 ml...</td>\n",
              "      <td>NaN</td>\n",
              "      <td>Pirmal Healthcare</td>\n",
              "      <td>67,701 in Beauty &amp; Personal Care (</td>\n",
              "      <td>['3254895630', 'B007VL1D9S', 'B00EH9A0RI', 'B0...</td>\n",
              "      <td>{'Shipping Weight:': '12 ounces (', 'ASIN: ': ...</td>\n",
              "      <td>All Beauty</td>\n",
              "      <td>12.15</td>\n",
              "      <td>7414204790</td>\n",
              "      <td>['https://images-na.ssl-images-amazon.com/imag...</td>\n",
              "      <td>['https://images-na.ssl-images-amazon.com/imag...</td>\n",
              "      <td>67701.0</td>\n",
              "      <td>Beauty &amp; Personal Care</td>\n",
              "      <td>[Lacto Calamine Skin Balance Daily Nourishing ...</td>\n",
              "    </tr>\n",
              "  </tbody>\n",
              "</table>\n",
              "</div>"
            ],
            "text/plain": [
              "                                         description  \\\n",
              "0  loud n clear personal sound amplifier allows y...   \n",
              "1       lift  luminate triple action serum  by boots   \n",
              "2   stay perfect foundation now stays perfect for...   \n",
              "3  wella koleston perfect hair colour  medium int...   \n",
              "4  lacto calamine skin balance daily nourishing l...   \n",
              "\n",
              "                                               title  \\\n",
              "0      Loud 'N Clear&trade; Personal Sound Amplifier   \n",
              "1  No7 Lift &amp; Luminate Triple Action Serum 50...   \n",
              "2    No7 Stay Perfect Foundation Cool Vanilla by No7   \n",
              "3  Wella Koleston Perfect Hair Colour 44/44 Mediu...   \n",
              "4  Lacto Calamine Skin Balance Oil control 120 ml...   \n",
              "\n",
              "                       also_buy              brand  \\\n",
              "0                           NaN       idea village   \n",
              "1  ['B01E7LCSL6', 'B008X5RVME']                NaN   \n",
              "2                           NaN                No7   \n",
              "3                ['B0041PBXX8']                NaN   \n",
              "4                           NaN  Pirmal Healthcare   \n",
              "\n",
              "                                    rank  \\\n",
              "0  2,938,573 in Beauty & Personal Care (   \n",
              "1    872,854 in Beauty & Personal Care (   \n",
              "2    956,696 in Beauty & Personal Care (   \n",
              "3  1,870,258 in Beauty & Personal Care (   \n",
              "4     67,701 in Beauty & Personal Care (   \n",
              "\n",
              "                                           also_view  \\\n",
              "0                                                NaN   \n",
              "1                                                NaN   \n",
              "2         ['B01B8BR0O8', 'B01B8BR0NO', 'B014MHXXM8']   \n",
              "3                                                NaN   \n",
              "4  ['3254895630', 'B007VL1D9S', 'B00EH9A0RI', 'B0...   \n",
              "\n",
              "                                             details    main_cat  price  \\\n",
              "0                           {'ASIN: ': '6546546450'}  All Beauty    NaN   \n",
              "1  {'Shipping Weight:': '0.3 ounces (', 'ASIN: ':...  All Beauty  44.99   \n",
              "2  {'Shipping Weight:': '3.5 ounces (', 'ASIN: ':...  All Beauty  28.76   \n",
              "3  {'\\n    Item Weight: \\n    ': '1.76 ounces', '...  All Beauty    NaN   \n",
              "4  {'Shipping Weight:': '12 ounces (', 'ASIN: ': ...  All Beauty  12.15   \n",
              "\n",
              "         asin                                           imageURL  \\\n",
              "0  6546546450                                                NaN   \n",
              "1  7178680776                                                NaN   \n",
              "2  7250468162                                                NaN   \n",
              "3  7367905066  ['https://images-na.ssl-images-amazon.com/imag...   \n",
              "4  7414204790  ['https://images-na.ssl-images-amazon.com/imag...   \n",
              "\n",
              "                                     imageURLHighRes     rank_n  \\\n",
              "0                                                NaN  2938573.0   \n",
              "1                                                NaN   872854.0   \n",
              "2                                                NaN   956696.0   \n",
              "3  ['https://images-na.ssl-images-amazon.com/imag...  1870258.0   \n",
              "4  ['https://images-na.ssl-images-amazon.com/imag...    67701.0   \n",
              "\n",
              "                     rank_c                                      description_n  \n",
              "0   Beauty & Personal Care   [Loud 'N Clear Personal Sound Amplifier allows...  \n",
              "1   Beauty & Personal Care   [No7 Lift & Luminate Triple Action Serum 50ml ...  \n",
              "2   Beauty & Personal Care   [No7 Stay Perfect Foundation now stays perfect...  \n",
              "3   Beauty & Personal Care                                                 NaN  \n",
              "4   Beauty & Personal Care   [Lacto Calamine Skin Balance Daily Nourishing ...  "
            ]
          },
          "execution_count": 100,
          "metadata": {},
          "output_type": "execute_result"
        }
      ],
      "source": [
        "metadata.head()"
      ]
    },
    {
      "cell_type": "code",
      "execution_count": null,
      "id": "cef65c7d",
      "metadata": {
        "scrolled": true,
        "id": "cef65c7d",
        "outputId": "e1ccc2d7-2b85-44f7-94bc-9bf43046041c"
      },
      "outputs": [
        {
          "data": {
            "text/html": [
              "<div>\n",
              "<style scoped>\n",
              "    .dataframe tbody tr th:only-of-type {\n",
              "        vertical-align: middle;\n",
              "    }\n",
              "\n",
              "    .dataframe tbody tr th {\n",
              "        vertical-align: top;\n",
              "    }\n",
              "\n",
              "    .dataframe thead th {\n",
              "        text-align: right;\n",
              "    }\n",
              "</style>\n",
              "<table border=\"1\" class=\"dataframe\">\n",
              "  <thead>\n",
              "    <tr style=\"text-align: right;\">\n",
              "      <th></th>\n",
              "      <th>description</th>\n",
              "      <th>title</th>\n",
              "      <th>price</th>\n",
              "      <th>asin</th>\n",
              "      <th>rank_n</th>\n",
              "    </tr>\n",
              "  </thead>\n",
              "  <tbody>\n",
              "    <tr>\n",
              "      <th>0</th>\n",
              "      <td>loud n clear personal sound amplifier allows y...</td>\n",
              "      <td>Loud 'N Clear&amp;trade; Personal Sound Amplifier</td>\n",
              "      <td>NaN</td>\n",
              "      <td>6546546450</td>\n",
              "      <td>2938573.0</td>\n",
              "    </tr>\n",
              "    <tr>\n",
              "      <th>1</th>\n",
              "      <td>lift  luminate triple action serum  by boots</td>\n",
              "      <td>No7 Lift &amp;amp; Luminate Triple Action Serum 50...</td>\n",
              "      <td>44.99</td>\n",
              "      <td>7178680776</td>\n",
              "      <td>872854.0</td>\n",
              "    </tr>\n",
              "    <tr>\n",
              "      <th>2</th>\n",
              "      <td>stay perfect foundation now stays perfect for...</td>\n",
              "      <td>No7 Stay Perfect Foundation Cool Vanilla by No7</td>\n",
              "      <td>28.76</td>\n",
              "      <td>7250468162</td>\n",
              "      <td>956696.0</td>\n",
              "    </tr>\n",
              "    <tr>\n",
              "      <th>3</th>\n",
              "      <td>wella koleston perfect hair colour  medium int...</td>\n",
              "      <td>Wella Koleston Perfect Hair Colour 44/44 Mediu...</td>\n",
              "      <td>NaN</td>\n",
              "      <td>7367905066</td>\n",
              "      <td>1870258.0</td>\n",
              "    </tr>\n",
              "    <tr>\n",
              "      <th>4</th>\n",
              "      <td>lacto calamine skin balance daily nourishing l...</td>\n",
              "      <td>Lacto Calamine Skin Balance Oil control 120 ml...</td>\n",
              "      <td>12.15</td>\n",
              "      <td>7414204790</td>\n",
              "      <td>67701.0</td>\n",
              "    </tr>\n",
              "  </tbody>\n",
              "</table>\n",
              "</div>"
            ],
            "text/plain": [
              "                                         description  \\\n",
              "0  loud n clear personal sound amplifier allows y...   \n",
              "1       lift  luminate triple action serum  by boots   \n",
              "2   stay perfect foundation now stays perfect for...   \n",
              "3  wella koleston perfect hair colour  medium int...   \n",
              "4  lacto calamine skin balance daily nourishing l...   \n",
              "\n",
              "                                               title  price        asin  \\\n",
              "0      Loud 'N Clear&trade; Personal Sound Amplifier    NaN  6546546450   \n",
              "1  No7 Lift &amp; Luminate Triple Action Serum 50...  44.99  7178680776   \n",
              "2    No7 Stay Perfect Foundation Cool Vanilla by No7  28.76  7250468162   \n",
              "3  Wella Koleston Perfect Hair Colour 44/44 Mediu...    NaN  7367905066   \n",
              "4  Lacto Calamine Skin Balance Oil control 120 ml...  12.15  7414204790   \n",
              "\n",
              "      rank_n  \n",
              "0  2938573.0  \n",
              "1   872854.0  \n",
              "2   956696.0  \n",
              "3  1870258.0  \n",
              "4    67701.0  "
            ]
          },
          "execution_count": 101,
          "metadata": {},
          "output_type": "execute_result"
        }
      ],
      "source": [
        "# 檢查很多輪後決定把這些col拿掉\n",
        "nouse = [ 'also_buy', 'brand', 'rank', 'also_view', 'details', 'main_cat', 'imageURL', 'imageURLHighRes', 'rank_c', 'description_n']\n",
        "metadata = metadata.drop(nouse, axis=1)\n",
        "metadata.head()\n"
      ]
    },
    {
      "cell_type": "markdown",
      "id": "27c1d5c1",
      "metadata": {
        "id": "27c1d5c1"
      },
      "source": [
        "## nltk "
      ]
    },
    {
      "cell_type": "code",
      "execution_count": null,
      "id": "76a75a55",
      "metadata": {
        "id": "76a75a55"
      },
      "outputs": [],
      "source": [
        "import nltk\n",
        "from nltk.tokenize import sent_tokenize\n",
        "from nltk.tokenize import word_tokenize\n",
        "from nltk.corpus import stopwords\n",
        "stop_words=set(stopwords.words(\"english\"))\n",
        "# Stemming\n",
        "from nltk.stem import PorterStemmer\n",
        "ps = PorterStemmer()\n"
      ]
    },
    {
      "cell_type": "code",
      "execution_count": null,
      "id": "086dab37",
      "metadata": {
        "id": "086dab37"
      },
      "outputs": [],
      "source": [
        "def stem_text(text):\n",
        "    \"\"\"\n",
        "    PorterStemmer is used for Stemming.\n",
        "    \"\"\"\n",
        "    stemmer = PorterStemmer()\n",
        "    return \" \".join([stemmer.stem(word) for word in text.split()])\n",
        "\n",
        "\n",
        "def rem_stopwords(text, stop_word=\"english\"):\n",
        "    eng_stop_words = stopwords.words(stop_word)\n",
        "    return \" \".join([word for word in text.split() if word not in eng_stop_words])\n"
      ]
    },
    {
      "cell_type": "code",
      "execution_count": null,
      "id": "83fa9437",
      "metadata": {
        "id": "83fa9437"
      },
      "outputs": [],
      "source": [
        "metadata['description'] = metadata['description'].apply(rem_stopwords)\n",
        "metadata['description'] = metadata['description'].apply(stem_text)"
      ]
    },
    {
      "cell_type": "code",
      "execution_count": null,
      "id": "9d48088f",
      "metadata": {
        "id": "9d48088f",
        "outputId": "545719a9-7ac5-4ba7-fde5-8d38526fc49e"
      },
      "outputs": [
        {
          "data": {
            "text/html": [
              "<div>\n",
              "<style scoped>\n",
              "    .dataframe tbody tr th:only-of-type {\n",
              "        vertical-align: middle;\n",
              "    }\n",
              "\n",
              "    .dataframe tbody tr th {\n",
              "        vertical-align: top;\n",
              "    }\n",
              "\n",
              "    .dataframe thead th {\n",
              "        text-align: right;\n",
              "    }\n",
              "</style>\n",
              "<table border=\"1\" class=\"dataframe\">\n",
              "  <thead>\n",
              "    <tr style=\"text-align: right;\">\n",
              "      <th></th>\n",
              "      <th>description</th>\n",
              "      <th>title</th>\n",
              "      <th>price</th>\n",
              "      <th>asin</th>\n",
              "      <th>rank_n</th>\n",
              "    </tr>\n",
              "  </thead>\n",
              "  <tbody>\n",
              "    <tr>\n",
              "      <th>0</th>\n",
              "      <td>loud n clear person sound amplifi allow turn v...</td>\n",
              "      <td>Loud 'N Clear&amp;trade; Personal Sound Amplifier</td>\n",
              "      <td>NaN</td>\n",
              "      <td>6546546450</td>\n",
              "      <td>2938573.0</td>\n",
              "    </tr>\n",
              "    <tr>\n",
              "      <th>1</th>\n",
              "      <td>lift lumin tripl action serum boot</td>\n",
              "      <td>No7 Lift &amp;amp; Luminate Triple Action Serum 50...</td>\n",
              "      <td>44.99</td>\n",
              "      <td>7178680776</td>\n",
              "      <td>872854.0</td>\n",
              "    </tr>\n",
              "    <tr>\n",
              "      <th>2</th>\n",
              "      <td>stay perfect foundat stay perfect longer hour ...</td>\n",
              "      <td>No7 Stay Perfect Foundation Cool Vanilla by No7</td>\n",
              "      <td>28.76</td>\n",
              "      <td>7250468162</td>\n",
              "      <td>956696.0</td>\n",
              "    </tr>\n",
              "    <tr>\n",
              "      <th>3</th>\n",
              "      <td>wella koleston perfect hair colour medium inte...</td>\n",
              "      <td>Wella Koleston Perfect Hair Colour 44/44 Mediu...</td>\n",
              "      <td>NaN</td>\n",
              "      <td>7367905066</td>\n",
              "      <td>1870258.0</td>\n",
              "    </tr>\n",
              "    <tr>\n",
              "      <th>4</th>\n",
              "      <td>lacto calamin skin balanc daili nourish lotion...</td>\n",
              "      <td>Lacto Calamine Skin Balance Oil control 120 ml...</td>\n",
              "      <td>12.15</td>\n",
              "      <td>7414204790</td>\n",
              "      <td>67701.0</td>\n",
              "    </tr>\n",
              "    <tr>\n",
              "      <th>...</th>\n",
              "      <td>...</td>\n",
              "      <td>...</td>\n",
              "      <td>...</td>\n",
              "      <td>...</td>\n",
              "      <td>...</td>\n",
              "    </tr>\n",
              "    <tr>\n",
              "      <th>32887</th>\n",
              "      <td>bariel pro textur grip cuticl nipper purpl</td>\n",
              "      <td>Barielle Pro Textured Grip Cuticle Nipper, Purple</td>\n",
              "      <td>9.95</td>\n",
              "      <td>B01HIWLLUK</td>\n",
              "      <td>2145325.0</td>\n",
              "    </tr>\n",
              "    <tr>\n",
              "      <th>32888</th>\n",
              "      <td>buy get free salon perfect eye makeup correcto...</td>\n",
              "      <td>(Buy 3 Get 1 Free) Salon Perfect Eye Makeup Co...</td>\n",
              "      <td>NaN</td>\n",
              "      <td>B01HJ1K3YK</td>\n",
              "      <td>1639713.0</td>\n",
              "    </tr>\n",
              "    <tr>\n",
              "      <th>32889</th>\n",
              "      <td>dmannos mg veg capsul pack</td>\n",
              "      <td>NOW D-Mannose 500 mg - 120 Veg Capsules (Pack ...</td>\n",
              "      <td>55.63</td>\n",
              "      <td>B01HJ84SGM</td>\n",
              "      <td>207410.0</td>\n",
              "    </tr>\n",
              "    <tr>\n",
              "      <th>32890</th>\n",
              "      <td>brand new high qualiti enabl fast volley ensur...</td>\n",
              "      <td>12 White Feather Shuttlecocks Birdies Badminto...</td>\n",
              "      <td>12.99</td>\n",
              "      <td>B01HJASD20</td>\n",
              "      <td>965673.0</td>\n",
              "    </tr>\n",
              "    <tr>\n",
              "      <th>32891</th>\n",
              "      <td>feshfen scrunchi scrunchi synthet hair bun upd...</td>\n",
              "      <td>FESHFEN Scrunchy Scrunchies Synthetic Hair Bun...</td>\n",
              "      <td>NaN</td>\n",
              "      <td>B01HJEGTYK</td>\n",
              "      <td>478123.0</td>\n",
              "    </tr>\n",
              "  </tbody>\n",
              "</table>\n",
              "<p>31712 rows × 5 columns</p>\n",
              "</div>"
            ],
            "text/plain": [
              "                                             description  \\\n",
              "0      loud n clear person sound amplifi allow turn v...   \n",
              "1                     lift lumin tripl action serum boot   \n",
              "2      stay perfect foundat stay perfect longer hour ...   \n",
              "3      wella koleston perfect hair colour medium inte...   \n",
              "4      lacto calamin skin balanc daili nourish lotion...   \n",
              "...                                                  ...   \n",
              "32887         bariel pro textur grip cuticl nipper purpl   \n",
              "32888  buy get free salon perfect eye makeup correcto...   \n",
              "32889                         dmannos mg veg capsul pack   \n",
              "32890  brand new high qualiti enabl fast volley ensur...   \n",
              "32891  feshfen scrunchi scrunchi synthet hair bun upd...   \n",
              "\n",
              "                                                   title  price        asin  \\\n",
              "0          Loud 'N Clear&trade; Personal Sound Amplifier    NaN  6546546450   \n",
              "1      No7 Lift &amp; Luminate Triple Action Serum 50...  44.99  7178680776   \n",
              "2        No7 Stay Perfect Foundation Cool Vanilla by No7  28.76  7250468162   \n",
              "3      Wella Koleston Perfect Hair Colour 44/44 Mediu...    NaN  7367905066   \n",
              "4      Lacto Calamine Skin Balance Oil control 120 ml...  12.15  7414204790   \n",
              "...                                                  ...    ...         ...   \n",
              "32887  Barielle Pro Textured Grip Cuticle Nipper, Purple   9.95  B01HIWLLUK   \n",
              "32888  (Buy 3 Get 1 Free) Salon Perfect Eye Makeup Co...    NaN  B01HJ1K3YK   \n",
              "32889  NOW D-Mannose 500 mg - 120 Veg Capsules (Pack ...  55.63  B01HJ84SGM   \n",
              "32890  12 White Feather Shuttlecocks Birdies Badminto...  12.99  B01HJASD20   \n",
              "32891  FESHFEN Scrunchy Scrunchies Synthetic Hair Bun...    NaN  B01HJEGTYK   \n",
              "\n",
              "          rank_n  \n",
              "0      2938573.0  \n",
              "1       872854.0  \n",
              "2       956696.0  \n",
              "3      1870258.0  \n",
              "4        67701.0  \n",
              "...          ...  \n",
              "32887  2145325.0  \n",
              "32888  1639713.0  \n",
              "32889   207410.0  \n",
              "32890   965673.0  \n",
              "32891   478123.0  \n",
              "\n",
              "[31712 rows x 5 columns]"
            ]
          },
          "execution_count": 30,
          "metadata": {},
          "output_type": "execute_result"
        }
      ],
      "source": [
        "metadata"
      ]
    },
    {
      "cell_type": "markdown",
      "id": "1d73f588",
      "metadata": {
        "id": "1d73f588"
      },
      "source": [
        "## 資料切分"
      ]
    },
    {
      "cell_type": "code",
      "execution_count": null,
      "id": "5a956eef",
      "metadata": {
        "id": "5a956eef"
      },
      "outputs": [],
      "source": [
        "ratings['DATE'] = pd.to_datetime(ratings['unixReviewTime'], unit='s')"
      ]
    },
    {
      "cell_type": "code",
      "execution_count": null,
      "id": "93f9773e",
      "metadata": {
        "id": "93f9773e"
      },
      "outputs": [],
      "source": [
        "ratings_trainings = ratings[\n",
        "    (ratings['DATE'] < '2018-09-01')\n",
        "]\n",
        "ratings_testings = ratings[\n",
        "    (ratings['DATE'] >= '2018-09-01') & \n",
        "    (ratings['DATE'] <= '2018-09-30')\n",
        "]\n",
        "ratings_testings_by_user = ratings_testings.groupby('reviewerID').agg(list).reset_index()[['reviewerID', 'asin']].to_dict('records')\n",
        "ratings_testings_by_user = { rating['reviewerID']: rating['asin'] for rating in ratings_testings_by_user }\n",
        "users = list(ratings_testings_by_user.keys())"
      ]
    },
    {
      "cell_type": "code",
      "execution_count": null,
      "id": "bec9defd",
      "metadata": {
        "id": "bec9defd",
        "outputId": "eebbd258-f26e-45bd-c725-ed6eeda7ac05"
      },
      "outputs": [
        {
          "data": {
            "text/html": [
              "<div>\n",
              "<style scoped>\n",
              "    .dataframe tbody tr th:only-of-type {\n",
              "        vertical-align: middle;\n",
              "    }\n",
              "\n",
              "    .dataframe tbody tr th {\n",
              "        vertical-align: top;\n",
              "    }\n",
              "\n",
              "    .dataframe thead th {\n",
              "        text-align: right;\n",
              "    }\n",
              "</style>\n",
              "<table border=\"1\" class=\"dataframe\">\n",
              "  <thead>\n",
              "    <tr style=\"text-align: right;\">\n",
              "      <th></th>\n",
              "      <th>asin</th>\n",
              "      <th>reviewerID</th>\n",
              "      <th>overall</th>\n",
              "      <th>unixReviewTime</th>\n",
              "      <th>DATE</th>\n",
              "    </tr>\n",
              "  </thead>\n",
              "  <tbody>\n",
              "    <tr>\n",
              "      <th>0</th>\n",
              "      <td>0143026860</td>\n",
              "      <td>A1V6B6TNIC10QE</td>\n",
              "      <td>1.0</td>\n",
              "      <td>1424304000</td>\n",
              "      <td>2015-02-19</td>\n",
              "    </tr>\n",
              "    <tr>\n",
              "      <th>1</th>\n",
              "      <td>0143026860</td>\n",
              "      <td>A2F5GHSXFQ0W6J</td>\n",
              "      <td>4.0</td>\n",
              "      <td>1418860800</td>\n",
              "      <td>2014-12-18</td>\n",
              "    </tr>\n",
              "    <tr>\n",
              "      <th>2</th>\n",
              "      <td>0143026860</td>\n",
              "      <td>A1572GUYS7DGSR</td>\n",
              "      <td>4.0</td>\n",
              "      <td>1407628800</td>\n",
              "      <td>2014-08-10</td>\n",
              "    </tr>\n",
              "    <tr>\n",
              "      <th>3</th>\n",
              "      <td>0143026860</td>\n",
              "      <td>A1PSGLFK1NSVO</td>\n",
              "      <td>5.0</td>\n",
              "      <td>1362960000</td>\n",
              "      <td>2013-03-11</td>\n",
              "    </tr>\n",
              "    <tr>\n",
              "      <th>4</th>\n",
              "      <td>0143026860</td>\n",
              "      <td>A6IKXKZMTKGSC</td>\n",
              "      <td>5.0</td>\n",
              "      <td>1324771200</td>\n",
              "      <td>2011-12-25</td>\n",
              "    </tr>\n",
              "  </tbody>\n",
              "</table>\n",
              "</div>"
            ],
            "text/plain": [
              "         asin      reviewerID  overall  unixReviewTime       DATE\n",
              "0  0143026860  A1V6B6TNIC10QE      1.0      1424304000 2015-02-19\n",
              "1  0143026860  A2F5GHSXFQ0W6J      4.0      1418860800 2014-12-18\n",
              "2  0143026860  A1572GUYS7DGSR      4.0      1407628800 2014-08-10\n",
              "3  0143026860   A1PSGLFK1NSVO      5.0      1362960000 2013-03-11\n",
              "4  0143026860   A6IKXKZMTKGSC      5.0      1324771200 2011-12-25"
            ]
          },
          "execution_count": 107,
          "metadata": {},
          "output_type": "execute_result"
        }
      ],
      "source": [
        "ratings.head()"
      ]
    },
    {
      "cell_type": "markdown",
      "id": "68ffa4ed",
      "metadata": {
        "id": "68ffa4ed"
      },
      "source": [
        "## 1. 助教示範"
      ]
    },
    {
      "cell_type": "code",
      "execution_count": null,
      "id": "81511f1f",
      "metadata": {
        "id": "81511f1f"
      },
      "outputs": [],
      "source": [
        "from sklearn.feature_extraction.text import TfidfVectorizer\n",
        "\n",
        "# 計算商品用標題所表示的 tfidf 矩陣\n",
        "df = metadata.drop_duplicates('title')\n",
        "tf = TfidfVectorizer(analyzer='word')\n",
        "tfidf_matrix = tf.fit_transform(df['title'])\n",
        "\n",
        "# 計算商品間的相似程度\n",
        "from sklearn.metrics.pairwise import cosine_similarity\n",
        "similarity_matrix = cosine_similarity(tfidf_matrix)\n",
        "mapping = pd.Series(df.index,index = df['title'])\n",
        "\n",
        "# 每個商品回傳 k 個最相近的商品\n",
        "def recommend_item(item_input, k=2):\n",
        "    try:\n",
        "        item_index = mapping[item_input]\n",
        "        similarity_score = list(enumerate(similarity_matrix[item_index]))\n",
        "        similarity_score = sorted(similarity_score, key=lambda x: x[1], reverse=True)\n",
        "        similarity_score = similarity_score[:k]\n",
        "        item_indices = [i[0] for i in similarity_score]\n",
        "        return (df['asin'].iloc[item_indices].tolist())\n",
        "    except:\n",
        "        return []\n",
        "\n",
        "# 利用使用者購買過的商品產生推薦\n",
        "def recommend_items(items, k):\n",
        "    res = []\n",
        "    for d in items:\n",
        "        res.extend(recommend_item(d, k))\n",
        "    return res"
      ]
    },
    {
      "cell_type": "code",
      "execution_count": null,
      "id": "3a603ac3",
      "metadata": {
        "id": "3a603ac3"
      },
      "outputs": [],
      "source": [
        "def recommender(training_data, users=[], k=10):\n",
        "    '''\n",
        "    * training_data: dataframe 輸入的訓練資料集（2018-09-01 以前資料）\n",
        "    * users: [] 需要被推薦的使用者\n",
        "    * k: int 每個使用者需要推薦的商品數\n",
        "    * recommendations: dict\n",
        "      {\n",
        "          使用者一： [推薦商品一, 推薦商品二, ...],\n",
        "          使用者二： [...], ...\n",
        "      }\n",
        "    '''\n",
        "    recommendations = {}\n",
        "    '''\n",
        "    content-based\n",
        "    '''\n",
        "    ratings_trainings = training_data\n",
        "    recommendations = {user: recommend_items(metadata[metadata['asin'].isin(ratings_trainings[ratings_trainings['reviewerID'] == user]['asin'].tolist())]['title'].tolist(), k) for user in users}\n",
        "    return recommendations\n",
        "\n",
        "ratings_by_user = recommender(ratings_trainings, users)\n",
        "ratings_by_user"
      ]
    },
    {
      "cell_type": "code",
      "execution_count": null,
      "id": "8c049469",
      "metadata": {
        "id": "8c049469",
        "outputId": "dfd2f853-2155-4284-d304-a40b5f75fbd1"
      },
      "outputs": [
        {
          "data": {
            "text/plain": [
              "0.0"
            ]
          },
          "execution_count": 110,
          "metadata": {},
          "output_type": "execute_result"
        }
      ],
      "source": [
        "def evaluate(ratings_testings_by_user={}, ratings_by_user={}, method=None):\n",
        "    '''\n",
        "    * ratings_testings_by_user: dict 真實被購買的商品資料（2018-09-01 以後資料）\n",
        "    * ratings_by_user: dict 利用訓練資料學習的推薦商品\n",
        "    * method: str\n",
        "    * score: float\n",
        "    '''\n",
        "    total = 0\n",
        "    for d in ratings_testings_by_user:\n",
        "        if d in ratings_by_user:\n",
        "            total += len(set(ratings_by_user[d]) & set(ratings_testings_by_user[d]))\n",
        "\n",
        "    score = total / len(ratings_testings)\n",
        "    return score\n",
        "\n",
        "evaluate(ratings_testings_by_user, ratings_by_user)"
      ]
    },
    {
      "cell_type": "code",
      "execution_count": null,
      "id": "67119305",
      "metadata": {
        "id": "67119305",
        "outputId": "6dc20d09-0e8a-42ce-8a79-e7792195c025"
      },
      "outputs": [
        {
          "data": {
            "text/html": [
              "<div>\n",
              "<style scoped>\n",
              "    .dataframe tbody tr th:only-of-type {\n",
              "        vertical-align: middle;\n",
              "    }\n",
              "\n",
              "    .dataframe tbody tr th {\n",
              "        vertical-align: top;\n",
              "    }\n",
              "\n",
              "    .dataframe thead th {\n",
              "        text-align: right;\n",
              "    }\n",
              "</style>\n",
              "<table border=\"1\" class=\"dataframe\">\n",
              "  <thead>\n",
              "    <tr style=\"text-align: right;\">\n",
              "      <th></th>\n",
              "      <th>0</th>\n",
              "      <th>1</th>\n",
              "      <th>2</th>\n",
              "      <th>3</th>\n",
              "      <th>4</th>\n",
              "      <th>5</th>\n",
              "      <th>6</th>\n",
              "      <th>7</th>\n",
              "      <th>8</th>\n",
              "      <th>9</th>\n",
              "      <th>...</th>\n",
              "      <th>30</th>\n",
              "      <th>31</th>\n",
              "      <th>32</th>\n",
              "      <th>33</th>\n",
              "      <th>34</th>\n",
              "      <th>35</th>\n",
              "      <th>36</th>\n",
              "      <th>37</th>\n",
              "      <th>38</th>\n",
              "      <th>39</th>\n",
              "    </tr>\n",
              "  </thead>\n",
              "  <tbody>\n",
              "    <tr>\n",
              "      <th>ASGIVOW34XNQS</th>\n",
              "      <td>B000NT6AG6</td>\n",
              "      <td>B0184GV8KC</td>\n",
              "      <td>B009FLQD7E</td>\n",
              "      <td>B00QUHMTWE</td>\n",
              "      <td>B00IKU9FXA</td>\n",
              "      <td>B0009MW430</td>\n",
              "      <td>B00T4EL5WU</td>\n",
              "      <td>B018IWXF44</td>\n",
              "      <td>B001OIOJ0Y</td>\n",
              "      <td>B018T9QJYO</td>\n",
              "      <td>...</td>\n",
              "      <td>None</td>\n",
              "      <td>None</td>\n",
              "      <td>None</td>\n",
              "      <td>None</td>\n",
              "      <td>None</td>\n",
              "      <td>None</td>\n",
              "      <td>None</td>\n",
              "      <td>None</td>\n",
              "      <td>None</td>\n",
              "      <td>None</td>\n",
              "    </tr>\n",
              "    <tr>\n",
              "      <th>A1SA3N793WT2LM</th>\n",
              "      <td>B00757DZ6C</td>\n",
              "      <td>B002ZP7S12</td>\n",
              "      <td>B00WZVCOPG</td>\n",
              "      <td>B00JFBT916</td>\n",
              "      <td>B008UKB4F2</td>\n",
              "      <td>B00RXVR21E</td>\n",
              "      <td>B01EAG8312</td>\n",
              "      <td>B00103KS4E</td>\n",
              "      <td>B00H78RQMI</td>\n",
              "      <td>B002KPQ3RC</td>\n",
              "      <td>...</td>\n",
              "      <td>B015G8MDBE</td>\n",
              "      <td>B00GUXIZGW</td>\n",
              "      <td>B004Y46MK0</td>\n",
              "      <td>B000K8WZ7S</td>\n",
              "      <td>B001DB6AWM</td>\n",
              "      <td>B017MEMRS4</td>\n",
              "      <td>B00T0SXWLM</td>\n",
              "      <td>B00QZPCP0C</td>\n",
              "      <td>B00ERJZUE6</td>\n",
              "      <td>B00RYH7AI2</td>\n",
              "    </tr>\n",
              "    <tr>\n",
              "      <th>ACE1ZIOI3U6PY</th>\n",
              "      <td>B00AHCDFS0</td>\n",
              "      <td>B01095Q2MU</td>\n",
              "      <td>B00BEGEQNQ</td>\n",
              "      <td>B010DP05D8</td>\n",
              "      <td>B0053OX78U</td>\n",
              "      <td>B00SL2NPYM</td>\n",
              "      <td>B00NX5MPUM</td>\n",
              "      <td>B00782LTGW</td>\n",
              "      <td>B00BEGEQKO</td>\n",
              "      <td>B01D0SD00U</td>\n",
              "      <td>...</td>\n",
              "      <td>None</td>\n",
              "      <td>None</td>\n",
              "      <td>None</td>\n",
              "      <td>None</td>\n",
              "      <td>None</td>\n",
              "      <td>None</td>\n",
              "      <td>None</td>\n",
              "      <td>None</td>\n",
              "      <td>None</td>\n",
              "      <td>None</td>\n",
              "    </tr>\n",
              "    <tr>\n",
              "      <th>A4IQXCCXDEAKW</th>\n",
              "      <td>B001RYOR70</td>\n",
              "      <td>B00FQR9OEK</td>\n",
              "      <td>B000HA99LE</td>\n",
              "      <td>B005FYK6N2</td>\n",
              "      <td>B003HBDC6I</td>\n",
              "      <td>B01A4I1TR0</td>\n",
              "      <td>B009GO9UUC</td>\n",
              "      <td>B00KVMRNQQ</td>\n",
              "      <td>B000XEVN9A</td>\n",
              "      <td>B00T72SSTW</td>\n",
              "      <td>...</td>\n",
              "      <td>None</td>\n",
              "      <td>None</td>\n",
              "      <td>None</td>\n",
              "      <td>None</td>\n",
              "      <td>None</td>\n",
              "      <td>None</td>\n",
              "      <td>None</td>\n",
              "      <td>None</td>\n",
              "      <td>None</td>\n",
              "      <td>None</td>\n",
              "    </tr>\n",
              "    <tr>\n",
              "      <th>A3H8Z7JS7XJHJJ</th>\n",
              "      <td>B00TSRU754</td>\n",
              "      <td>B00UC8XP98</td>\n",
              "      <td>B004BPUY3S</td>\n",
              "      <td>B0015YL7YS</td>\n",
              "      <td>B00WQALW9U</td>\n",
              "      <td>B00Q8N2QHI</td>\n",
              "      <td>B01F756QQ4</td>\n",
              "      <td>B00UXE6OG2</td>\n",
              "      <td>B002L06STY</td>\n",
              "      <td>B000F6R6B0</td>\n",
              "      <td>...</td>\n",
              "      <td>None</td>\n",
              "      <td>None</td>\n",
              "      <td>None</td>\n",
              "      <td>None</td>\n",
              "      <td>None</td>\n",
              "      <td>None</td>\n",
              "      <td>None</td>\n",
              "      <td>None</td>\n",
              "      <td>None</td>\n",
              "      <td>None</td>\n",
              "    </tr>\n",
              "    <tr>\n",
              "      <th>...</th>\n",
              "      <td>...</td>\n",
              "      <td>...</td>\n",
              "      <td>...</td>\n",
              "      <td>...</td>\n",
              "      <td>...</td>\n",
              "      <td>...</td>\n",
              "      <td>...</td>\n",
              "      <td>...</td>\n",
              "      <td>...</td>\n",
              "      <td>...</td>\n",
              "      <td>...</td>\n",
              "      <td>...</td>\n",
              "      <td>...</td>\n",
              "      <td>...</td>\n",
              "      <td>...</td>\n",
              "      <td>...</td>\n",
              "      <td>...</td>\n",
              "      <td>...</td>\n",
              "      <td>...</td>\n",
              "      <td>...</td>\n",
              "      <td>...</td>\n",
              "    </tr>\n",
              "    <tr>\n",
              "      <th>AZECTAHZICNW5</th>\n",
              "      <td>None</td>\n",
              "      <td>None</td>\n",
              "      <td>None</td>\n",
              "      <td>None</td>\n",
              "      <td>None</td>\n",
              "      <td>None</td>\n",
              "      <td>None</td>\n",
              "      <td>None</td>\n",
              "      <td>None</td>\n",
              "      <td>None</td>\n",
              "      <td>...</td>\n",
              "      <td>None</td>\n",
              "      <td>None</td>\n",
              "      <td>None</td>\n",
              "      <td>None</td>\n",
              "      <td>None</td>\n",
              "      <td>None</td>\n",
              "      <td>None</td>\n",
              "      <td>None</td>\n",
              "      <td>None</td>\n",
              "      <td>None</td>\n",
              "    </tr>\n",
              "    <tr>\n",
              "      <th>AZEGZXCFTLSQB</th>\n",
              "      <td>None</td>\n",
              "      <td>None</td>\n",
              "      <td>None</td>\n",
              "      <td>None</td>\n",
              "      <td>None</td>\n",
              "      <td>None</td>\n",
              "      <td>None</td>\n",
              "      <td>None</td>\n",
              "      <td>None</td>\n",
              "      <td>None</td>\n",
              "      <td>...</td>\n",
              "      <td>None</td>\n",
              "      <td>None</td>\n",
              "      <td>None</td>\n",
              "      <td>None</td>\n",
              "      <td>None</td>\n",
              "      <td>None</td>\n",
              "      <td>None</td>\n",
              "      <td>None</td>\n",
              "      <td>None</td>\n",
              "      <td>None</td>\n",
              "    </tr>\n",
              "    <tr>\n",
              "      <th>AZEKC7DEXXJD7</th>\n",
              "      <td>None</td>\n",
              "      <td>None</td>\n",
              "      <td>None</td>\n",
              "      <td>None</td>\n",
              "      <td>None</td>\n",
              "      <td>None</td>\n",
              "      <td>None</td>\n",
              "      <td>None</td>\n",
              "      <td>None</td>\n",
              "      <td>None</td>\n",
              "      <td>...</td>\n",
              "      <td>None</td>\n",
              "      <td>None</td>\n",
              "      <td>None</td>\n",
              "      <td>None</td>\n",
              "      <td>None</td>\n",
              "      <td>None</td>\n",
              "      <td>None</td>\n",
              "      <td>None</td>\n",
              "      <td>None</td>\n",
              "      <td>None</td>\n",
              "    </tr>\n",
              "    <tr>\n",
              "      <th>AZFGSCB0S59LQ</th>\n",
              "      <td>None</td>\n",
              "      <td>None</td>\n",
              "      <td>None</td>\n",
              "      <td>None</td>\n",
              "      <td>None</td>\n",
              "      <td>None</td>\n",
              "      <td>None</td>\n",
              "      <td>None</td>\n",
              "      <td>None</td>\n",
              "      <td>None</td>\n",
              "      <td>...</td>\n",
              "      <td>None</td>\n",
              "      <td>None</td>\n",
              "      <td>None</td>\n",
              "      <td>None</td>\n",
              "      <td>None</td>\n",
              "      <td>None</td>\n",
              "      <td>None</td>\n",
              "      <td>None</td>\n",
              "      <td>None</td>\n",
              "      <td>None</td>\n",
              "    </tr>\n",
              "    <tr>\n",
              "      <th>AZHS42HV4FKKA</th>\n",
              "      <td>None</td>\n",
              "      <td>None</td>\n",
              "      <td>None</td>\n",
              "      <td>None</td>\n",
              "      <td>None</td>\n",
              "      <td>None</td>\n",
              "      <td>None</td>\n",
              "      <td>None</td>\n",
              "      <td>None</td>\n",
              "      <td>None</td>\n",
              "      <td>...</td>\n",
              "      <td>None</td>\n",
              "      <td>None</td>\n",
              "      <td>None</td>\n",
              "      <td>None</td>\n",
              "      <td>None</td>\n",
              "      <td>None</td>\n",
              "      <td>None</td>\n",
              "      <td>None</td>\n",
              "      <td>None</td>\n",
              "      <td>None</td>\n",
              "    </tr>\n",
              "  </tbody>\n",
              "</table>\n",
              "<p>584 rows × 40 columns</p>\n",
              "</div>"
            ],
            "text/plain": [
              "                        0           1           2           3           4   \\\n",
              "ASGIVOW34XNQS   B000NT6AG6  B0184GV8KC  B009FLQD7E  B00QUHMTWE  B00IKU9FXA   \n",
              "A1SA3N793WT2LM  B00757DZ6C  B002ZP7S12  B00WZVCOPG  B00JFBT916  B008UKB4F2   \n",
              "ACE1ZIOI3U6PY   B00AHCDFS0  B01095Q2MU  B00BEGEQNQ  B010DP05D8  B0053OX78U   \n",
              "A4IQXCCXDEAKW   B001RYOR70  B00FQR9OEK  B000HA99LE  B005FYK6N2  B003HBDC6I   \n",
              "A3H8Z7JS7XJHJJ  B00TSRU754  B00UC8XP98  B004BPUY3S  B0015YL7YS  B00WQALW9U   \n",
              "...                    ...         ...         ...         ...         ...   \n",
              "AZECTAHZICNW5         None        None        None        None        None   \n",
              "AZEGZXCFTLSQB         None        None        None        None        None   \n",
              "AZEKC7DEXXJD7         None        None        None        None        None   \n",
              "AZFGSCB0S59LQ         None        None        None        None        None   \n",
              "AZHS42HV4FKKA         None        None        None        None        None   \n",
              "\n",
              "                        5           6           7           8           9   \\\n",
              "ASGIVOW34XNQS   B0009MW430  B00T4EL5WU  B018IWXF44  B001OIOJ0Y  B018T9QJYO   \n",
              "A1SA3N793WT2LM  B00RXVR21E  B01EAG8312  B00103KS4E  B00H78RQMI  B002KPQ3RC   \n",
              "ACE1ZIOI3U6PY   B00SL2NPYM  B00NX5MPUM  B00782LTGW  B00BEGEQKO  B01D0SD00U   \n",
              "A4IQXCCXDEAKW   B01A4I1TR0  B009GO9UUC  B00KVMRNQQ  B000XEVN9A  B00T72SSTW   \n",
              "A3H8Z7JS7XJHJJ  B00Q8N2QHI  B01F756QQ4  B00UXE6OG2  B002L06STY  B000F6R6B0   \n",
              "...                    ...         ...         ...         ...         ...   \n",
              "AZECTAHZICNW5         None        None        None        None        None   \n",
              "AZEGZXCFTLSQB         None        None        None        None        None   \n",
              "AZEKC7DEXXJD7         None        None        None        None        None   \n",
              "AZFGSCB0S59LQ         None        None        None        None        None   \n",
              "AZHS42HV4FKKA         None        None        None        None        None   \n",
              "\n",
              "                ...          30          31          32          33  \\\n",
              "ASGIVOW34XNQS   ...        None        None        None        None   \n",
              "A1SA3N793WT2LM  ...  B015G8MDBE  B00GUXIZGW  B004Y46MK0  B000K8WZ7S   \n",
              "ACE1ZIOI3U6PY   ...        None        None        None        None   \n",
              "A4IQXCCXDEAKW   ...        None        None        None        None   \n",
              "A3H8Z7JS7XJHJJ  ...        None        None        None        None   \n",
              "...             ...         ...         ...         ...         ...   \n",
              "AZECTAHZICNW5   ...        None        None        None        None   \n",
              "AZEGZXCFTLSQB   ...        None        None        None        None   \n",
              "AZEKC7DEXXJD7   ...        None        None        None        None   \n",
              "AZFGSCB0S59LQ   ...        None        None        None        None   \n",
              "AZHS42HV4FKKA   ...        None        None        None        None   \n",
              "\n",
              "                        34          35          36          37          38  \\\n",
              "ASGIVOW34XNQS         None        None        None        None        None   \n",
              "A1SA3N793WT2LM  B001DB6AWM  B017MEMRS4  B00T0SXWLM  B00QZPCP0C  B00ERJZUE6   \n",
              "ACE1ZIOI3U6PY         None        None        None        None        None   \n",
              "A4IQXCCXDEAKW         None        None        None        None        None   \n",
              "A3H8Z7JS7XJHJJ        None        None        None        None        None   \n",
              "...                    ...         ...         ...         ...         ...   \n",
              "AZECTAHZICNW5         None        None        None        None        None   \n",
              "AZEGZXCFTLSQB         None        None        None        None        None   \n",
              "AZEKC7DEXXJD7         None        None        None        None        None   \n",
              "AZFGSCB0S59LQ         None        None        None        None        None   \n",
              "AZHS42HV4FKKA         None        None        None        None        None   \n",
              "\n",
              "                        39  \n",
              "ASGIVOW34XNQS         None  \n",
              "A1SA3N793WT2LM  B00RYH7AI2  \n",
              "ACE1ZIOI3U6PY         None  \n",
              "A4IQXCCXDEAKW         None  \n",
              "A3H8Z7JS7XJHJJ        None  \n",
              "...                    ...  \n",
              "AZECTAHZICNW5         None  \n",
              "AZEGZXCFTLSQB         None  \n",
              "AZEKC7DEXXJD7         None  \n",
              "AZFGSCB0S59LQ         None  \n",
              "AZHS42HV4FKKA         None  \n",
              "\n",
              "[584 rows x 40 columns]"
            ]
          },
          "execution_count": 111,
          "metadata": {},
          "output_type": "execute_result"
        }
      ],
      "source": [
        "rec_by_title = pd.DataFrame.from_dict(ratings_by_user, orient='index')\n",
        "rec_by_title.sort_values(by=10)"
      ]
    },
    {
      "cell_type": "markdown",
      "id": "fd6519f1",
      "metadata": {
        "id": "fd6519f1"
      },
      "source": [
        "觀察範例使用 title 去做推薦的output，結果會發現很多user並沒有接收到推薦商品。 然後有些人得到超多推薦，最多有到40個的。\n",
        "\n",
        "想到上周有同學說，在testing dataset 裡的userid 有些過去並沒有買過，所以無法以他們的過去資料進行推薦。"
      ]
    },
    {
      "cell_type": "code",
      "execution_count": null,
      "id": "a351a5ce",
      "metadata": {
        "id": "a351a5ce",
        "outputId": "5968b8cf-5d1f-4369-b29e-086a9ec1cef9"
      },
      "outputs": [
        {
          "name": "stdout",
          "output_type": "stream",
          "text": [
            "38\n",
            "0.06506849315068493\n"
          ]
        }
      ],
      "source": [
        "# 新舊客戶比例檢查\n",
        "a = ratings_trainings['reviewerID'].unique()\n",
        "a = pd.Series(a)\n",
        "b = ratings_testings['reviewerID'].unique()\n",
        "b = pd.Series(b)\n",
        "c = a.isin(b)\n",
        "print(c.sum()) # 只有38筆是舊客戶\n",
        "print(38/len(b)) # 只佔testing 的客戶人數0.065, 所以如果直接使用客戶先前買過的商品去推薦的效果可能非常不好。"
      ]
    },
    {
      "cell_type": "code",
      "execution_count": null,
      "id": "c7ef896d",
      "metadata": {
        "id": "c7ef896d",
        "outputId": "0c2b7716-bdd0-4c3a-c0ea-65bd7f43a32a"
      },
      "outputs": [
        {
          "name": "stdout",
          "output_type": "stream",
          "text": [
            "39\n",
            "551\n"
          ]
        }
      ],
      "source": [
        "# 所以分成新舊兩組客戶做處理 \n",
        "a=a.tolist()\n",
        "ratings_testings_old = ratings_testings[ratings_testings['reviewerID'].map(lambda x:x in a )]\n",
        "ratings_testings_new = ratings_testings[ratings_testings['reviewerID'].map(lambda x:x not in a )]\n",
        "print(len(ratings_testings_old))\n",
        "\n",
        "print(len(ratings_testings_new))\n",
        "# 存成不同名單去處理 \n",
        "old_list = ratings_testings_old['reviewerID'].tolist()\n",
        "new_list = ratings_testings_new['reviewerID'].tolist()"
      ]
    },
    {
      "cell_type": "markdown",
      "id": "9b0fa7b7",
      "metadata": {
        "id": "9b0fa7b7"
      },
      "source": [
        "## 先處理舊客戶"
      ]
    },
    {
      "cell_type": "code",
      "execution_count": null,
      "id": "2629a785",
      "metadata": {
        "id": "2629a785",
        "outputId": "a8e6b1ef-d100-4891-c235-0d23cc56a79e"
      },
      "outputs": [
        {
          "data": {
            "text/html": [
              "<div>\n",
              "<style scoped>\n",
              "    .dataframe tbody tr th:only-of-type {\n",
              "        vertical-align: middle;\n",
              "    }\n",
              "\n",
              "    .dataframe tbody tr th {\n",
              "        vertical-align: top;\n",
              "    }\n",
              "\n",
              "    .dataframe thead th {\n",
              "        text-align: right;\n",
              "    }\n",
              "</style>\n",
              "<table border=\"1\" class=\"dataframe\">\n",
              "  <thead>\n",
              "    <tr style=\"text-align: right;\">\n",
              "      <th></th>\n",
              "      <th>reviewerID</th>\n",
              "      <th>asin</th>\n",
              "    </tr>\n",
              "  </thead>\n",
              "  <tbody>\n",
              "    <tr>\n",
              "      <th>343283</th>\n",
              "      <td>A13JU88JAHN72I</td>\n",
              "      <td>B017I6B6GK</td>\n",
              "    </tr>\n",
              "    <tr>\n",
              "      <th>362219</th>\n",
              "      <td>A16Y7V1CZCWKFV</td>\n",
              "      <td>B01E54U1RI</td>\n",
              "    </tr>\n",
              "    <tr>\n",
              "      <th>357765</th>\n",
              "      <td>A19503XX7GU6J2</td>\n",
              "      <td>B01CTQC9J2</td>\n",
              "    </tr>\n",
              "    <tr>\n",
              "      <th>362220</th>\n",
              "      <td>A1EY751AUVO5NZ</td>\n",
              "      <td>B01E54U1RI</td>\n",
              "    </tr>\n",
              "    <tr>\n",
              "      <th>357462</th>\n",
              "      <td>A1PR178735XC70</td>\n",
              "      <td>B01CRSWZAU</td>\n",
              "    </tr>\n",
              "  </tbody>\n",
              "</table>\n",
              "</div>"
            ],
            "text/plain": [
              "            reviewerID        asin\n",
              "343283  A13JU88JAHN72I  B017I6B6GK\n",
              "362219  A16Y7V1CZCWKFV  B01E54U1RI\n",
              "357765  A19503XX7GU6J2  B01CTQC9J2\n",
              "362220  A1EY751AUVO5NZ  B01E54U1RI\n",
              "357462  A1PR178735XC70  B01CRSWZAU"
            ]
          },
          "execution_count": 114,
          "metadata": {},
          "output_type": "execute_result"
        }
      ],
      "source": [
        "df_old = ratings_testings[ratings_testings['reviewerID'].isin(old_list)]\n",
        "# 找出舊客戶買過的東西\n",
        "out_bought = df_old[['reviewerID', 'asin']]\n",
        "out_bought = out_bought.sort_values(by='reviewerID')\n",
        "out_bought.head()"
      ]
    },
    {
      "cell_type": "code",
      "execution_count": null,
      "id": "c69a9f92",
      "metadata": {
        "id": "c69a9f92"
      },
      "outputs": [],
      "source": [
        "# 計算商品用description_n所表示的 tfidf 矩陣\n",
        "description_df = metadata['description']\n",
        "tf = TfidfVectorizer(min_df=2, max_df=0.7, stop_words=stop_words)\n",
        "tfidf_matrix = tf.fit_transform(description_df)\n",
        "# print(tf.get_feature_names())\n",
        "# print(len(tf.get_feature_names()))"
      ]
    },
    {
      "cell_type": "code",
      "execution_count": null,
      "id": "ce8850ef",
      "metadata": {
        "id": "ce8850ef"
      },
      "outputs": [],
      "source": [
        "# 計算商品間的相似程度\n",
        "from sklearn.metrics.pairwise import cosine_similarity\n",
        "similarity_matrix = cosine_similarity(tfidf_matrix)\n",
        "mapping = pd.Series(description_df.index, index = metadata['asin'])"
      ]
    },
    {
      "cell_type": "code",
      "execution_count": null,
      "id": "53636edc",
      "metadata": {
        "id": "53636edc",
        "outputId": "c0fcb491-b9d0-496b-d023-8878180fbdbe"
      },
      "outputs": [
        {
          "data": {
            "text/plain": [
              "(31712, 31712)"
            ]
          },
          "execution_count": 129,
          "metadata": {},
          "output_type": "execute_result"
        }
      ],
      "source": [
        "similarity_matrix.shape"
      ]
    },
    {
      "cell_type": "code",
      "execution_count": null,
      "id": "ddb9935d",
      "metadata": {
        "id": "ddb9935d",
        "outputId": "11c2510c-5ec7-468c-83d0-b654a78ea2c9"
      },
      "outputs": [
        {
          "data": {
            "text/html": [
              "<div>\n",
              "<style scoped>\n",
              "    .dataframe tbody tr th:only-of-type {\n",
              "        vertical-align: middle;\n",
              "    }\n",
              "\n",
              "    .dataframe tbody tr th {\n",
              "        vertical-align: top;\n",
              "    }\n",
              "\n",
              "    .dataframe thead th {\n",
              "        text-align: right;\n",
              "    }\n",
              "</style>\n",
              "<table border=\"1\" class=\"dataframe\">\n",
              "  <thead>\n",
              "    <tr style=\"text-align: right;\">\n",
              "      <th>asin</th>\n",
              "      <th>6546546450</th>\n",
              "      <th>7178680776</th>\n",
              "      <th>7250468162</th>\n",
              "      <th>7367905066</th>\n",
              "      <th>7414204790</th>\n",
              "      <th>7535842801</th>\n",
              "      <th>7538626107</th>\n",
              "      <th>8279996397</th>\n",
              "      <th>8637910351</th>\n",
              "      <th>8867326759</th>\n",
              "      <th>...</th>\n",
              "      <th>B01HIM4GZ2</th>\n",
              "      <th>B01HIM3A3G</th>\n",
              "      <th>B01HIPOQ2M</th>\n",
              "      <th>B01HIUEEHO</th>\n",
              "      <th>B01HIWKGOM</th>\n",
              "      <th>B01HIWLLUK</th>\n",
              "      <th>B01HJ1K3YK</th>\n",
              "      <th>B01HJ84SGM</th>\n",
              "      <th>B01HJASD20</th>\n",
              "      <th>B01HJEGTYK</th>\n",
              "    </tr>\n",
              "    <tr>\n",
              "      <th>asin</th>\n",
              "      <th></th>\n",
              "      <th></th>\n",
              "      <th></th>\n",
              "      <th></th>\n",
              "      <th></th>\n",
              "      <th></th>\n",
              "      <th></th>\n",
              "      <th></th>\n",
              "      <th></th>\n",
              "      <th></th>\n",
              "      <th></th>\n",
              "      <th></th>\n",
              "      <th></th>\n",
              "      <th></th>\n",
              "      <th></th>\n",
              "      <th></th>\n",
              "      <th></th>\n",
              "      <th></th>\n",
              "      <th></th>\n",
              "      <th></th>\n",
              "      <th></th>\n",
              "    </tr>\n",
              "  </thead>\n",
              "  <tbody>\n",
              "    <tr>\n",
              "      <th>6546546450</th>\n",
              "      <td>1.0</td>\n",
              "      <td>0.0</td>\n",
              "      <td>0.000000</td>\n",
              "      <td>0.000000</td>\n",
              "      <td>0.000000</td>\n",
              "      <td>0.0</td>\n",
              "      <td>0.000000</td>\n",
              "      <td>0.0</td>\n",
              "      <td>0.0</td>\n",
              "      <td>0.000000</td>\n",
              "      <td>...</td>\n",
              "      <td>0.000000</td>\n",
              "      <td>0.000000</td>\n",
              "      <td>0.0</td>\n",
              "      <td>0.0</td>\n",
              "      <td>0.0</td>\n",
              "      <td>0.0</td>\n",
              "      <td>0.000000</td>\n",
              "      <td>0.000000</td>\n",
              "      <td>0.000000</td>\n",
              "      <td>0.000000</td>\n",
              "    </tr>\n",
              "    <tr>\n",
              "      <th>7178680776</th>\n",
              "      <td>0.0</td>\n",
              "      <td>1.0</td>\n",
              "      <td>0.000000</td>\n",
              "      <td>0.000000</td>\n",
              "      <td>0.000000</td>\n",
              "      <td>0.0</td>\n",
              "      <td>0.000000</td>\n",
              "      <td>0.0</td>\n",
              "      <td>0.0</td>\n",
              "      <td>0.000000</td>\n",
              "      <td>...</td>\n",
              "      <td>0.000000</td>\n",
              "      <td>0.000000</td>\n",
              "      <td>0.0</td>\n",
              "      <td>0.0</td>\n",
              "      <td>0.0</td>\n",
              "      <td>0.0</td>\n",
              "      <td>0.000000</td>\n",
              "      <td>0.000000</td>\n",
              "      <td>0.000000</td>\n",
              "      <td>0.000000</td>\n",
              "    </tr>\n",
              "    <tr>\n",
              "      <th>7250468162</th>\n",
              "      <td>0.0</td>\n",
              "      <td>0.0</td>\n",
              "      <td>1.000000</td>\n",
              "      <td>0.090848</td>\n",
              "      <td>0.029533</td>\n",
              "      <td>0.0</td>\n",
              "      <td>0.021761</td>\n",
              "      <td>0.0</td>\n",
              "      <td>0.0</td>\n",
              "      <td>0.037485</td>\n",
              "      <td>...</td>\n",
              "      <td>0.021894</td>\n",
              "      <td>0.018513</td>\n",
              "      <td>0.0</td>\n",
              "      <td>0.0</td>\n",
              "      <td>0.0</td>\n",
              "      <td>0.0</td>\n",
              "      <td>0.057802</td>\n",
              "      <td>0.000000</td>\n",
              "      <td>0.015467</td>\n",
              "      <td>0.000000</td>\n",
              "    </tr>\n",
              "    <tr>\n",
              "      <th>7367905066</th>\n",
              "      <td>0.0</td>\n",
              "      <td>0.0</td>\n",
              "      <td>0.090848</td>\n",
              "      <td>1.000000</td>\n",
              "      <td>0.000000</td>\n",
              "      <td>0.0</td>\n",
              "      <td>0.000000</td>\n",
              "      <td>0.0</td>\n",
              "      <td>0.0</td>\n",
              "      <td>0.057529</td>\n",
              "      <td>...</td>\n",
              "      <td>0.000000</td>\n",
              "      <td>0.000000</td>\n",
              "      <td>0.0</td>\n",
              "      <td>0.0</td>\n",
              "      <td>0.0</td>\n",
              "      <td>0.0</td>\n",
              "      <td>0.033058</td>\n",
              "      <td>0.000000</td>\n",
              "      <td>0.000000</td>\n",
              "      <td>0.072938</td>\n",
              "    </tr>\n",
              "    <tr>\n",
              "      <th>7414204790</th>\n",
              "      <td>0.0</td>\n",
              "      <td>0.0</td>\n",
              "      <td>0.029533</td>\n",
              "      <td>0.000000</td>\n",
              "      <td>1.000000</td>\n",
              "      <td>0.0</td>\n",
              "      <td>0.000000</td>\n",
              "      <td>0.0</td>\n",
              "      <td>0.0</td>\n",
              "      <td>0.000000</td>\n",
              "      <td>...</td>\n",
              "      <td>0.000000</td>\n",
              "      <td>0.034463</td>\n",
              "      <td>0.0</td>\n",
              "      <td>0.0</td>\n",
              "      <td>0.0</td>\n",
              "      <td>0.0</td>\n",
              "      <td>0.027590</td>\n",
              "      <td>0.050344</td>\n",
              "      <td>0.000000</td>\n",
              "      <td>0.000000</td>\n",
              "    </tr>\n",
              "  </tbody>\n",
              "</table>\n",
              "<p>5 rows × 31712 columns</p>\n",
              "</div>"
            ],
            "text/plain": [
              "asin        6546546450  7178680776  7250468162  7367905066  7414204790  \\\n",
              "asin                                                                     \n",
              "6546546450         1.0         0.0    0.000000    0.000000    0.000000   \n",
              "7178680776         0.0         1.0    0.000000    0.000000    0.000000   \n",
              "7250468162         0.0         0.0    1.000000    0.090848    0.029533   \n",
              "7367905066         0.0         0.0    0.090848    1.000000    0.000000   \n",
              "7414204790         0.0         0.0    0.029533    0.000000    1.000000   \n",
              "\n",
              "asin        7535842801  7538626107  8279996397  8637910351  8867326759  ...  \\\n",
              "asin                                                                    ...   \n",
              "6546546450         0.0    0.000000         0.0         0.0    0.000000  ...   \n",
              "7178680776         0.0    0.000000         0.0         0.0    0.000000  ...   \n",
              "7250468162         0.0    0.021761         0.0         0.0    0.037485  ...   \n",
              "7367905066         0.0    0.000000         0.0         0.0    0.057529  ...   \n",
              "7414204790         0.0    0.000000         0.0         0.0    0.000000  ...   \n",
              "\n",
              "asin        B01HIM4GZ2  B01HIM3A3G  B01HIPOQ2M  B01HIUEEHO  B01HIWKGOM  \\\n",
              "asin                                                                     \n",
              "6546546450    0.000000    0.000000         0.0         0.0         0.0   \n",
              "7178680776    0.000000    0.000000         0.0         0.0         0.0   \n",
              "7250468162    0.021894    0.018513         0.0         0.0         0.0   \n",
              "7367905066    0.000000    0.000000         0.0         0.0         0.0   \n",
              "7414204790    0.000000    0.034463         0.0         0.0         0.0   \n",
              "\n",
              "asin        B01HIWLLUK  B01HJ1K3YK  B01HJ84SGM  B01HJASD20  B01HJEGTYK  \n",
              "asin                                                                    \n",
              "6546546450         0.0    0.000000    0.000000    0.000000    0.000000  \n",
              "7178680776         0.0    0.000000    0.000000    0.000000    0.000000  \n",
              "7250468162         0.0    0.057802    0.000000    0.015467    0.000000  \n",
              "7367905066         0.0    0.033058    0.000000    0.000000    0.072938  \n",
              "7414204790         0.0    0.027590    0.050344    0.000000    0.000000  \n",
              "\n",
              "[5 rows x 31712 columns]"
            ]
          },
          "execution_count": 130,
          "metadata": {},
          "output_type": "execute_result"
        }
      ],
      "source": [
        "cosine_similarity_df = pd.DataFrame(similarity_matrix, \n",
        "                                    index=mapping.index, \n",
        "                                    columns=mapping.index)\n",
        "\n",
        "# asin 之間的相似性參照表 \n",
        "cosine_similarity_df.head()"
      ]
    },
    {
      "cell_type": "code",
      "execution_count": null,
      "id": "bcce9f67",
      "metadata": {
        "id": "bcce9f67"
      },
      "outputs": [],
      "source": [
        "# 每個商品回傳 k 個最相近的商品\n",
        "# item_input 就是客戶買過的東西\n",
        "# mapping就是那個asin\n",
        "def recommend_item(item_input, k=2):\n",
        "    try:\n",
        "        item_index = mapping[item_input]\n",
        "        similarity_score = list(enumerate(similarity_matrix[item_index]))\n",
        "        similarity_score = sorted(similarity_score, key=lambda x: x[1], reverse=True)\n",
        "        similarity_score = similarity_score[:k]\n",
        "        item_indices = [i[0] for i in similarity_score]\n",
        "        return (metadata['asin'].iloc[item_indices].tolist())\n",
        "    except:\n",
        "        return []\n",
        "\n",
        "# 利用使用者購買過的商品產生推薦\n",
        "def recommend_items(items, k):\n",
        "    res = []\n",
        "    for d in items:\n",
        "        res.extend(recommend_item(d, k))\n",
        "    return res"
      ]
    },
    {
      "cell_type": "code",
      "execution_count": null,
      "id": "bccfb5cd",
      "metadata": {
        "id": "bccfb5cd"
      },
      "outputs": [],
      "source": [
        "# 舊客戶買的東西來做推薦清單\n",
        "def recommender_old(training_data, users=[], k=10):\n",
        "    '''\n",
        "    * training_data: dataframe 輸入的訓練資料集（2018-09-01 以前資料）\n",
        "    * users: [] 需要被推薦的使用者\n",
        "    * k: int 每個使用者需要推薦的商品數\n",
        "    * recommendations: dict\n",
        "      {\n",
        "          使用者一： [推薦商品一, 推薦商品二, ...],\n",
        "          使用者二： [...], ...\n",
        "      }\n",
        "    '''\n",
        "    recommendations = {}\n",
        "    '''\n",
        "    content-based\n",
        "    '''\n",
        "    ratings_trainings = training_data\n",
        "    recommendations = {user: recommend_items(out_bought[out_bought['asin'].isin(out_bought[out_bought['reviewerID'] == user]['asin'].tolist())]['asin'].tolist(), k) for user in users}\n",
        "    return recommendations\n",
        "\n",
        "ratings_by_old_user = recommender_old(out_bought, users)\n",
        "ratings_by_old_user\n"
      ]
    },
    {
      "cell_type": "code",
      "execution_count": null,
      "id": "d803c5b5",
      "metadata": {
        "id": "d803c5b5",
        "outputId": "a232b218-f261-44ba-a8d5-b5704020dd98"
      },
      "outputs": [
        {
          "data": {
            "text/plain": [
              "0.0"
            ]
          },
          "execution_count": 134,
          "metadata": {},
          "output_type": "execute_result"
        }
      ],
      "source": [
        "evaluate(ratings_by_old_user, ratings_by_user)"
      ]
    },
    {
      "cell_type": "markdown",
      "id": "d502db4b",
      "metadata": {
        "id": "d502db4b"
      },
      "source": [
        "## 新客戶用 rule-based\n",
        "\n",
        "1. 檢查每個美妝產品的第一次被評論日期和最後一次被評論日期\n"
      ]
    },
    {
      "cell_type": "code",
      "execution_count": null,
      "id": "eaacd604",
      "metadata": {
        "id": "eaacd604"
      },
      "outputs": [],
      "source": [
        "review_date = ratings_trainings.groupby('asin', as_index=False).agg(review_1st = ('DATE', 'min'), review_last = ('DATE', 'max'))\n"
      ]
    },
    {
      "cell_type": "code",
      "execution_count": null,
      "id": "bdffaa42",
      "metadata": {
        "id": "bdffaa42",
        "outputId": "9b11b1d0-a1e4-4878-884a-fae48a959b0f"
      },
      "outputs": [
        {
          "data": {
            "text/html": [
              "<div>\n",
              "<style scoped>\n",
              "    .dataframe tbody tr th:only-of-type {\n",
              "        vertical-align: middle;\n",
              "    }\n",
              "\n",
              "    .dataframe tbody tr th {\n",
              "        vertical-align: top;\n",
              "    }\n",
              "\n",
              "    .dataframe thead th {\n",
              "        text-align: right;\n",
              "    }\n",
              "</style>\n",
              "<table border=\"1\" class=\"dataframe\">\n",
              "  <thead>\n",
              "    <tr style=\"text-align: right;\">\n",
              "      <th></th>\n",
              "      <th>asin</th>\n",
              "      <th>review_1st</th>\n",
              "      <th>review_last</th>\n",
              "    </tr>\n",
              "  </thead>\n",
              "  <tbody>\n",
              "    <tr>\n",
              "      <th>0</th>\n",
              "      <td>0061073717</td>\n",
              "      <td>2000-05-06</td>\n",
              "      <td>2000-06-03</td>\n",
              "    </tr>\n",
              "    <tr>\n",
              "      <th>115</th>\n",
              "      <td>B000050B67</td>\n",
              "      <td>2001-01-02</td>\n",
              "      <td>2001-09-03</td>\n",
              "    </tr>\n",
              "    <tr>\n",
              "      <th>114</th>\n",
              "      <td>B000050B65</td>\n",
              "      <td>2001-01-15</td>\n",
              "      <td>2002-08-19</td>\n",
              "    </tr>\n",
              "    <tr>\n",
              "      <th>191</th>\n",
              "      <td>B00006FRW1</td>\n",
              "      <td>2002-11-03</td>\n",
              "      <td>2002-11-03</td>\n",
              "    </tr>\n",
              "    <tr>\n",
              "      <th>111</th>\n",
              "      <td>B000050B62</td>\n",
              "      <td>2000-10-29</td>\n",
              "      <td>2003-02-20</td>\n",
              "    </tr>\n",
              "    <tr>\n",
              "      <th>...</th>\n",
              "      <td>...</td>\n",
              "      <td>...</td>\n",
              "      <td>...</td>\n",
              "    </tr>\n",
              "    <tr>\n",
              "      <th>29515</th>\n",
              "      <td>B01DJI7796</td>\n",
              "      <td>2016-05-15</td>\n",
              "      <td>2018-08-31</td>\n",
              "    </tr>\n",
              "    <tr>\n",
              "      <th>28904</th>\n",
              "      <td>B01CW8SDLU</td>\n",
              "      <td>2017-11-20</td>\n",
              "      <td>2018-08-31</td>\n",
              "    </tr>\n",
              "    <tr>\n",
              "      <th>28903</th>\n",
              "      <td>B01CW24JXC</td>\n",
              "      <td>2016-08-06</td>\n",
              "      <td>2018-08-31</td>\n",
              "    </tr>\n",
              "    <tr>\n",
              "      <th>28429</th>\n",
              "      <td>B01CD7JK9E</td>\n",
              "      <td>2016-08-13</td>\n",
              "      <td>2018-08-31</td>\n",
              "    </tr>\n",
              "    <tr>\n",
              "      <th>23020</th>\n",
              "      <td>B014KEITCC</td>\n",
              "      <td>2015-11-09</td>\n",
              "      <td>2018-08-31</td>\n",
              "    </tr>\n",
              "  </tbody>\n",
              "</table>\n",
              "<p>32582 rows × 3 columns</p>\n",
              "</div>"
            ],
            "text/plain": [
              "             asin review_1st review_last\n",
              "0      0061073717 2000-05-06  2000-06-03\n",
              "115    B000050B67 2001-01-02  2001-09-03\n",
              "114    B000050B65 2001-01-15  2002-08-19\n",
              "191    B00006FRW1 2002-11-03  2002-11-03\n",
              "111    B000050B62 2000-10-29  2003-02-20\n",
              "...           ...        ...         ...\n",
              "29515  B01DJI7796 2016-05-15  2018-08-31\n",
              "28904  B01CW8SDLU 2017-11-20  2018-08-31\n",
              "28903  B01CW24JXC 2016-08-06  2018-08-31\n",
              "28429  B01CD7JK9E 2016-08-13  2018-08-31\n",
              "23020  B014KEITCC 2015-11-09  2018-08-31\n",
              "\n",
              "[32582 rows x 3 columns]"
            ]
          },
          "metadata": {},
          "output_type": "display_data"
        }
      ],
      "source": [
        "display(review_date.sort_values('review_last'))"
      ]
    },
    {
      "cell_type": "code",
      "execution_count": null,
      "id": "ac581eeb",
      "metadata": {
        "id": "ac581eeb"
      },
      "outputs": [],
      "source": [
        "review_date['review_last']=pd.to_datetime(review_date['review_last'])\n",
        "review_date['review_1st']=pd.to_datetime(review_date['review_1st'])\n",
        "\n",
        "\n",
        "review_date['review_last_year']=review_date['review_last'].dt.year\n",
        "review_date['review_1st_year']=review_date['review_1st'].dt.year"
      ]
    },
    {
      "cell_type": "code",
      "execution_count": null,
      "id": "ac9a8de6",
      "metadata": {
        "id": "ac9a8de6",
        "outputId": "9533ad62-6163-4100-c920-5f5a443f49ca"
      },
      "outputs": [
        {
          "data": {
            "text/html": [
              "<div>\n",
              "<style scoped>\n",
              "    .dataframe tbody tr th:only-of-type {\n",
              "        vertical-align: middle;\n",
              "    }\n",
              "\n",
              "    .dataframe tbody tr th {\n",
              "        vertical-align: top;\n",
              "    }\n",
              "\n",
              "    .dataframe thead th {\n",
              "        text-align: right;\n",
              "    }\n",
              "</style>\n",
              "<table border=\"1\" class=\"dataframe\">\n",
              "  <thead>\n",
              "    <tr style=\"text-align: right;\">\n",
              "      <th></th>\n",
              "      <th>asin</th>\n",
              "      <th>review_1st</th>\n",
              "      <th>review_last</th>\n",
              "      <th>review_last_year</th>\n",
              "      <th>review_1st_year</th>\n",
              "    </tr>\n",
              "  </thead>\n",
              "  <tbody>\n",
              "    <tr>\n",
              "      <th>0</th>\n",
              "      <td>0061073717</td>\n",
              "      <td>2000-05-06</td>\n",
              "      <td>2000-06-03</td>\n",
              "      <td>2000</td>\n",
              "      <td>2000</td>\n",
              "    </tr>\n",
              "    <tr>\n",
              "      <th>115</th>\n",
              "      <td>B000050B67</td>\n",
              "      <td>2001-01-02</td>\n",
              "      <td>2001-09-03</td>\n",
              "      <td>2001</td>\n",
              "      <td>2001</td>\n",
              "    </tr>\n",
              "    <tr>\n",
              "      <th>114</th>\n",
              "      <td>B000050B65</td>\n",
              "      <td>2001-01-15</td>\n",
              "      <td>2002-08-19</td>\n",
              "      <td>2002</td>\n",
              "      <td>2001</td>\n",
              "    </tr>\n",
              "    <tr>\n",
              "      <th>191</th>\n",
              "      <td>B00006FRW1</td>\n",
              "      <td>2002-11-03</td>\n",
              "      <td>2002-11-03</td>\n",
              "      <td>2002</td>\n",
              "      <td>2002</td>\n",
              "    </tr>\n",
              "    <tr>\n",
              "      <th>111</th>\n",
              "      <td>B000050B62</td>\n",
              "      <td>2000-10-29</td>\n",
              "      <td>2003-02-20</td>\n",
              "      <td>2003</td>\n",
              "      <td>2000</td>\n",
              "    </tr>\n",
              "    <tr>\n",
              "      <th>...</th>\n",
              "      <td>...</td>\n",
              "      <td>...</td>\n",
              "      <td>...</td>\n",
              "      <td>...</td>\n",
              "      <td>...</td>\n",
              "    </tr>\n",
              "    <tr>\n",
              "      <th>29515</th>\n",
              "      <td>B01DJI7796</td>\n",
              "      <td>2016-05-15</td>\n",
              "      <td>2018-08-31</td>\n",
              "      <td>2018</td>\n",
              "      <td>2016</td>\n",
              "    </tr>\n",
              "    <tr>\n",
              "      <th>28904</th>\n",
              "      <td>B01CW8SDLU</td>\n",
              "      <td>2017-11-20</td>\n",
              "      <td>2018-08-31</td>\n",
              "      <td>2018</td>\n",
              "      <td>2017</td>\n",
              "    </tr>\n",
              "    <tr>\n",
              "      <th>28903</th>\n",
              "      <td>B01CW24JXC</td>\n",
              "      <td>2016-08-06</td>\n",
              "      <td>2018-08-31</td>\n",
              "      <td>2018</td>\n",
              "      <td>2016</td>\n",
              "    </tr>\n",
              "    <tr>\n",
              "      <th>28429</th>\n",
              "      <td>B01CD7JK9E</td>\n",
              "      <td>2016-08-13</td>\n",
              "      <td>2018-08-31</td>\n",
              "      <td>2018</td>\n",
              "      <td>2016</td>\n",
              "    </tr>\n",
              "    <tr>\n",
              "      <th>23020</th>\n",
              "      <td>B014KEITCC</td>\n",
              "      <td>2015-11-09</td>\n",
              "      <td>2018-08-31</td>\n",
              "      <td>2018</td>\n",
              "      <td>2015</td>\n",
              "    </tr>\n",
              "  </tbody>\n",
              "</table>\n",
              "<p>32582 rows × 5 columns</p>\n",
              "</div>"
            ],
            "text/plain": [
              "             asin review_1st review_last  review_last_year  review_1st_year\n",
              "0      0061073717 2000-05-06  2000-06-03              2000             2000\n",
              "115    B000050B67 2001-01-02  2001-09-03              2001             2001\n",
              "114    B000050B65 2001-01-15  2002-08-19              2002             2001\n",
              "191    B00006FRW1 2002-11-03  2002-11-03              2002             2002\n",
              "111    B000050B62 2000-10-29  2003-02-20              2003             2000\n",
              "...           ...        ...         ...               ...              ...\n",
              "29515  B01DJI7796 2016-05-15  2018-08-31              2018             2016\n",
              "28904  B01CW8SDLU 2017-11-20  2018-08-31              2018             2017\n",
              "28903  B01CW24JXC 2016-08-06  2018-08-31              2018             2016\n",
              "28429  B01CD7JK9E 2016-08-13  2018-08-31              2018             2016\n",
              "23020  B014KEITCC 2015-11-09  2018-08-31              2018             2015\n",
              "\n",
              "[32582 rows x 5 columns]"
            ]
          },
          "metadata": {},
          "output_type": "display_data"
        },
        {
          "data": {
            "text/plain": [
              "2000       1\n",
              "2001       1\n",
              "2002       2\n",
              "2003       6\n",
              "2004      17\n",
              "2006      29\n",
              "2005      39\n",
              "2007      90\n",
              "2008     138\n",
              "2009     248\n",
              "2010     282\n",
              "2011     348\n",
              "2012     417\n",
              "2013    1085\n",
              "2014    2163\n",
              "2015    4575\n",
              "2018    6580\n",
              "2017    8018\n",
              "2016    8543\n",
              "Name: review_last_year, dtype: int64"
            ]
          },
          "execution_count": 138,
          "metadata": {},
          "output_type": "execute_result"
        }
      ],
      "source": [
        "display(review_date.sort_values('review_last'))\n",
        "\n",
        "review_date['review_last_year'].value_counts().sort_values()\n"
      ]
    },
    {
      "cell_type": "markdown",
      "id": "2ce3a5d0",
      "metadata": {
        "id": "2ce3a5d0"
      },
      "source": [
        "可以看出有一些產品已經很久沒有人評論，可能是已經不在市面上，所以僅保留近5年的做推薦試看看 (2014之後)"
      ]
    },
    {
      "cell_type": "code",
      "execution_count": null,
      "id": "2015306f",
      "metadata": {
        "id": "2015306f"
      },
      "outputs": [],
      "source": [
        "import datetime \n",
        "ratings_trainings['DATE']=pd.to_datetime(ratings['DATE'])\n",
        "ratings_trainings['year']=ratings_trainings['DATE'].dt.year\n",
        "ratings_trainings['month']=ratings_trainings['DATE'].dt.month\n",
        "ratings_trainings['quarter']=ratings_trainings['DATE'].dt.quarter"
      ]
    },
    {
      "cell_type": "code",
      "execution_count": null,
      "id": "4f8402fd",
      "metadata": {
        "id": "4f8402fd",
        "outputId": "ae5a5569-04c2-4ad8-a4da-9e060b439d00"
      },
      "outputs": [
        {
          "name": "stdout",
          "output_type": "stream",
          "text": [
            "77995\n",
            "370752\n"
          ]
        }
      ],
      "source": [
        "## 只保留近5年，Q3的販售商品, 使用這個去套用上次的rule base\n",
        "ratings_trainings_Q3 = ratings_trainings[(ratings_trainings['year']>2013)& (ratings_trainings['quarter']==3)]\n",
        "print(len(ratings_trainings_Q3)) \n",
        "print(len(ratings_trainings))"
      ]
    },
    {
      "cell_type": "code",
      "execution_count": null,
      "id": "601b699a",
      "metadata": {
        "id": "601b699a",
        "outputId": "4e2c8188-c595-44aa-a1bd-d6b4d8343b3d"
      },
      "outputs": [
        {
          "name": "stdout",
          "output_type": "stream",
          "text": [
            "551\n",
            "584\n",
            "546\n"
          ]
        }
      ],
      "source": [
        "# 讓rule_base 僅用於新客戶，所以先做一個新客戶的清單\n",
        "new_list = pd.Series(new_list)\n",
        "users = pd.Series(users)\n",
        "users_new = users[users.isin(new_list)]\n",
        "print(len(new_list))\n",
        "print(len(users))\n",
        "print(len(users_new))"
      ]
    },
    {
      "cell_type": "code",
      "execution_count": null,
      "id": "b42a4648",
      "metadata": {
        "id": "b42a4648"
      },
      "outputs": [],
      "source": [
        "def recommender_2(training_data, users=[], k=10):\n",
        "    '''\n",
        "    * training_data: dataframe 輸入的訓練資料集（2018-09-01 以前資料）\n",
        "    * users: [] 需要被推薦的使用者\n",
        "    * k: int 每個使用者需要推薦的商品數\n",
        "    * recommendations: dict\n",
        "      {\n",
        "          使用者一： [推薦商品一, 推薦商品二, ...],\n",
        "          使用者二： [...], ...\n",
        "      }\n",
        "    '''\n",
        "    recommendations = {}\n",
        "    popularity = training_data[\"asin\"].value_counts().index.to_list()[0:k]\n",
        "    recommendations = {x: popularity for x in users}\n",
        "    return recommendations\n",
        "\n",
        "ratings_by_new_user = recommender_2(ratings_trainings_Q3, users_new)"
      ]
    },
    {
      "cell_type": "code",
      "execution_count": null,
      "id": "15ba0c99",
      "metadata": {
        "id": "15ba0c99",
        "outputId": "eae15d49-f40f-4c5f-bfc9-df29462c6604"
      },
      "outputs": [
        {
          "data": {
            "text/plain": [
              "0.0"
            ]
          },
          "execution_count": 143,
          "metadata": {},
          "output_type": "execute_result"
        }
      ],
      "source": [
        "evaluate(ratings_by_new_user, ratings_by_user)"
      ]
    },
    {
      "cell_type": "code",
      "execution_count": null,
      "id": "b4b03ad3",
      "metadata": {
        "id": "b4b03ad3"
      },
      "outputs": [],
      "source": [
        "# 把新舊名單與推薦商品合併\n",
        "ratings_testings_by_user = {}\n",
        "for d in [ratings_by_old_user, ratings_by_new_user]:\n",
        "  ratings_testings_by_user.update(d)"
      ]
    },
    {
      "cell_type": "code",
      "execution_count": null,
      "id": "821faedf",
      "metadata": {
        "id": "821faedf",
        "outputId": "717c38c8-dda1-484f-9c44-4e0fa157e617"
      },
      "outputs": [
        {
          "data": {
            "text/plain": [
              "0.0"
            ]
          },
          "execution_count": 146,
          "metadata": {},
          "output_type": "execute_result"
        }
      ],
      "source": [
        "evaluate(ratings_testings_by_user, ratings_by_user)"
      ]
    },
    {
      "cell_type": "code",
      "execution_count": null,
      "id": "aa64f9a1",
      "metadata": {
        "id": "aa64f9a1"
      },
      "outputs": [],
      "source": [
        "ratings_testings_by_user"
      ]
    },
    {
      "cell_type": "code",
      "execution_count": null,
      "id": "2f8094fb",
      "metadata": {
        "id": "2f8094fb"
      },
      "outputs": [],
      "source": [
        ""
      ]
    },
    {
      "cell_type": "markdown",
      "id": "baafcb46",
      "metadata": {
        "id": "baafcb46"
      },
      "source": [
        "## QQ\n",
        "曾經在自己測試的時候有跑出過0.55的版本，但不知道為什麼在整理code的時候不見了, 之後怎麼跑都是0.0的結果"
      ]
    },
    {
      "cell_type": "code",
      "execution_count": null,
      "id": "8a1e9d2f",
      "metadata": {
        "id": "8a1e9d2f"
      },
      "outputs": [],
      "source": [
        ""
      ]
    }
  ],
  "metadata": {
    "kernelspec": {
      "display_name": "Python 3",
      "language": "python",
      "name": "python3"
    },
    "language_info": {
      "codemirror_mode": {
        "name": "ipython",
        "version": 3
      },
      "file_extension": ".py",
      "mimetype": "text/x-python",
      "name": "python",
      "nbconvert_exporter": "python",
      "pygments_lexer": "ipython3",
      "version": "3.9.5"
    },
    "colab": {
      "name": "W2-content-based_recommender.ipynb",
      "provenance": [],
      "collapsed_sections": [],
      "include_colab_link": true
    }
  },
  "nbformat": 4,
  "nbformat_minor": 5
}